{
 "cells": [
  {
   "cell_type": "markdown",
   "metadata": {
    "id": "O5VbtmFtprME"
   },
   "source": [
    "# install stuff"
   ]
  },
  {
   "cell_type": "code",
   "execution_count": 29,
   "metadata": {
    "id": "1WuPD16nprMJ"
   },
   "outputs": [],
   "source": [
    "# ! pip3 install pyspark pandas scikit-learn polyglot pyicu pycld2 morfessor optuna catboost"
   ]
  },
  {
   "cell_type": "markdown",
   "metadata": {
    "id": "zskPyWNXprMK"
   },
   "source": [
    "# setup pyspark"
   ]
  },
  {
   "cell_type": "code",
   "execution_count": 1,
   "metadata": {
    "id": "rmkYE9ehprML"
   },
   "outputs": [],
   "source": [
    "import pyspark.sql\n",
    "from pyspark.sql import functions as sf\n",
    "import pyspark\n",
    "from polyglot.detect import Detector\n",
    "from pyspark.sql.window import Window\n",
    "import numpy as np"
   ]
  },
  {
   "cell_type": "code",
   "execution_count": 3,
   "metadata": {
    "id": "AhOKkT-_prMM"
   },
   "outputs": [],
   "source": [
    "sparkConf = pyspark.SparkConf() \\\n",
    "    .set(\"spark.executor.memory\", \"16384m\")\\\n",
    "    .set(\"spark.driver.memory\", \"16384m\")\n",
    "ss = pyspark.sql.SparkSession.builder.config(conf=sparkConf).master('local[1]').getOrCreate()"
   ]
  },
  {
   "cell_type": "markdown",
   "metadata": {
    "id": "zmcmp1KsUoZV"
   },
   "source": [
    "Тут необходимо воспользоваться google.drive"
   ]
  },
  {
   "cell_type": "code",
   "execution_count": 4,
   "metadata": {
    "id": "ZZhCFBFurn4T"
   },
   "outputs": [],
   "source": [
    "# from google.colab import drive\n",
    "# drive.mount('/content/drive')"
   ]
  },
  {
   "cell_type": "code",
   "execution_count": 5,
   "metadata": {
    "id": "4zOTeNpRqS_l"
   },
   "outputs": [],
   "source": [
    "# import zipfile\n",
    "# with zipfile.ZipFile('./drive/MyDrive/HW2/hw_data.zip', 'r') as zip_ref:\n",
    "#     zip_ref.extractall('./drive/MyDrive/HW2/')"
   ]
  },
  {
   "cell_type": "markdown",
   "metadata": {
    "id": "vuYVrQ9-prMN"
   },
   "source": [
    "# load data"
   ]
  },
  {
   "cell_type": "code",
   "execution_count": 6,
   "metadata": {
    "id": "Pgnq_1kMprMO"
   },
   "outputs": [],
   "source": [
    "train_data = ss.read.orc('./drive/MyDrive/HW2/posts_train.orc')\n",
    "test_data = ss.read.orc('./drive/MyDrive/HW2/posts_test.orc')\n",
    "channel_data = ss.read.orc('./drive/MyDrive/HW2/channels_orc')"
   ]
  },
  {
   "cell_type": "markdown",
   "metadata": {
    "id": "cldvmU6_RQ5X"
   },
   "source": [
    "Переименование полей и визуализация"
   ]
  },
  {
   "cell_type": "code",
   "execution_count": 7,
   "metadata": {
    "id": "ldUbQjs2mIjF"
   },
   "outputs": [],
   "source": [
    "channel_data = channel_data.withColumnRenamed(\"tg_id\", \"tg_id_channel\")"
   ]
  },
  {
   "cell_type": "code",
   "execution_count": 19,
   "metadata": {
    "id": "B8CQ91hDt_nE"
   },
   "outputs": [],
   "source": [
    "def show(df):\n",
    "  return df.limit(5).toPandas()"
   ]
  },
  {
   "cell_type": "markdown",
   "metadata": {
    "id": "3mgWxPT1ybv_"
   },
   "source": [
    "Соединим трейн и тест с данными о каналах"
   ]
  },
  {
   "cell_type": "code",
   "execution_count": 20,
   "metadata": {
    "id": "kAwDnYymyuvu"
   },
   "outputs": [],
   "source": [
    "train_all = train_data.join(channel_data, on=['channel_id'], how='left')\n",
    "test_all = test_data.join(channel_data, on=['channel_id'], how='left')"
   ]
  },
  {
   "cell_type": "markdown",
   "metadata": {
    "id": "kMlwNbjX8_o0"
   },
   "source": [
    "Приведем дату к нормальному виду"
   ]
  },
  {
   "cell_type": "code",
   "execution_count": 21,
   "metadata": {
    "id": "Sskx8Fqb8-GG"
   },
   "outputs": [],
   "source": [
    "train_all = train_all.withColumn('date_time', sf.col('date').cast('timestamp'))\n",
    "train_all = train_all.withColumn('date', sf.col('date').cast('date'))\n",
    "train_all = train_all.withColumn('last_parsed', sf.col('last_parsed').cast('date'))\n",
    "\n",
    "test_all = test_all.withColumn('date_time', sf.col('date').cast('timestamp'))\n",
    "test_all = test_all.withColumn('date', sf.col('date').cast('date'))\n",
    "test_all = test_all.withColumn('last_parsed', sf.col('last_parsed').cast('date'))"
   ]
  },
  {
   "cell_type": "markdown",
   "metadata": {
    "id": "yYCu4BgyJfWd"
   },
   "source": [
    "Посчитаем количество дней между сбором информации и сообщением"
   ]
  },
  {
   "cell_type": "code",
   "execution_count": 22,
   "metadata": {
    "id": "t1Gpbw9oJedE"
   },
   "outputs": [],
   "source": [
    "@sf.udf\n",
    "def days_until_parse(date1, date2):\n",
    "  return (date2 - date1).days"
   ]
  },
  {
   "cell_type": "code",
   "execution_count": 23,
   "metadata": {
    "id": "l-hn_RyhJrd0"
   },
   "outputs": [],
   "source": [
    "train_all = train_all.withColumn('days_until_parse', days_until_parse('date', 'last_parsed').cast('int'))\n",
    "\n",
    "test_all = test_all.withColumn('days_until_parse', days_until_parse('date', 'last_parsed').cast('int'))"
   ]
  },
  {
   "cell_type": "markdown",
   "metadata": {
    "id": "YKHULEQ88-cK"
   },
   "source": [
    "Поработаем с текстовыми признаками:\n",
    "1. Сформируем признаки - язык: сообщения, описания канала, наименования канала"
   ]
  },
  {
   "cell_type": "code",
   "execution_count": 24,
   "metadata": {
    "id": "GKpcTKE95xtT"
   },
   "outputs": [],
   "source": [
    "@sf.udf\n",
    "def text_lang(text):\n",
    "  try:\n",
    "    lang = Detector(text).language.code\n",
    "  except:\n",
    "    lang = -1\n",
    "  return lang"
   ]
  },
  {
   "cell_type": "code",
   "execution_count": 25,
   "metadata": {
    "id": "qOpPtgJU1EsK"
   },
   "outputs": [],
   "source": [
    "train_all = train_all.withColumn('text_lang', text_lang('text'))\n",
    "train_all = train_all.withColumn('description_lang', text_lang('description'))\n",
    "train_all = train_all.withColumn('titte_lang', text_lang('title'))\n",
    "\n",
    "test_all = test_all.withColumn('text_lang', text_lang('text'))\n",
    "test_all = test_all.withColumn('description_lang', text_lang('description'))\n",
    "test_all = test_all.withColumn('titte_lang', text_lang('title'))"
   ]
  },
  {
   "cell_type": "markdown",
   "metadata": {
    "id": "cpVw8lxHG5YY"
   },
   "source": [
    "2. Посчитаем длину сообщения"
   ]
  },
  {
   "cell_type": "code",
   "execution_count": 26,
   "metadata": {
    "id": "zzUxsqw8G1uV"
   },
   "outputs": [],
   "source": [
    "@sf.udf\n",
    "def text_len(text):\n",
    "  try:\n",
    "    long = len(text)\n",
    "  except:\n",
    "    long = 0\n",
    "  return long"
   ]
  },
  {
   "cell_type": "code",
   "execution_count": 27,
   "metadata": {
    "id": "yWg60_o1HGly"
   },
   "outputs": [],
   "source": [
    "train_all = train_all.withColumn('text_len', text_len('text').cast('int'))\n",
    "\n",
    "test_all = test_all.withColumn('text_len', text_len('text').cast('int'))"
   ]
  },
  {
   "cell_type": "markdown",
   "metadata": {
    "id": "arFnjsltHznx"
   },
   "source": [
    "Удалим ненужные признаки (которые далее не будем использовать)"
   ]
  },
  {
   "cell_type": "code",
   "execution_count": 28,
   "metadata": {
    "id": "WDZNIAr3H4yO"
   },
   "outputs": [],
   "source": [
    "columns_to_drop = ['text', 'forwarded_id', 'description', 'last_parsed', 'name', 'title', 'updated']\n",
    "\n",
    "train_all = train_all.drop(*columns_to_drop)\n",
    "\n",
    "test_all = test_all.drop(*columns_to_drop)"
   ]
  },
  {
   "cell_type": "code",
   "execution_count": 29,
   "metadata": {
    "id": "XqBLo6d9WX4l"
   },
   "outputs": [],
   "source": [
    "# show(train_all)"
   ]
  },
  {
   "cell_type": "markdown",
   "metadata": {
    "id": "je05UMXtxwcD"
   },
   "source": [
    "#### Window aggregation"
   ]
  },
  {
   "cell_type": "markdown",
   "metadata": {
    "id": "fi-cUJh4-pmC"
   },
   "source": [
    "1. Номер поста за последние 7 дней в канале (активность в канале)"
   ]
  },
  {
   "cell_type": "code",
   "execution_count": 30,
   "metadata": {
    "id": "2VdSaPcbVntV"
   },
   "outputs": [],
   "source": [
    "ws = Window.partitionBy('channel_id') \\\n",
    "          .orderBy(sf.col(\"date_time\").cast(\"long\")) \\\n",
    "          .rangeBetween(-604800, 0)\n",
    "\n",
    "post_number_week_train = train_all.select('id', 'channel_id', 'date_time')\\\n",
    "  .withColumn('post_number_week', sf.count('id').over(ws)) \\\n",
    "  .orderBy('channel_id')\n",
    "\n",
    "columns_to_drop = ['date_time', 'channel_id']\n",
    "post_number_week_train = post_number_week_train.drop(*columns_to_drop)\n",
    "\n",
    "train_all = train_all.join(post_number_week_train, on=['id'], how='left')\n",
    "\n",
    "\n",
    "post_number_week_test = test_all.select('id', 'channel_id', 'date_time')\\\n",
    "  .withColumn('post_number_week', sf.count('id').over(ws)) \\\n",
    "  .orderBy('channel_id')\n",
    "\n",
    "post_number_week_test = post_number_week_test.drop(*columns_to_drop)\n",
    "\n",
    "test_all = test_all.join(post_number_week_test, on=['id'], how='left')"
   ]
  },
  {
   "cell_type": "code",
   "execution_count": 31,
   "metadata": {
    "id": "yXVvOmQgHGn1"
   },
   "outputs": [],
   "source": [
    "# show(train_all)"
   ]
  },
  {
   "cell_type": "markdown",
   "metadata": {
    "id": "zh9qDSQuTDoW"
   },
   "source": [
    "2. Максимальная длина поста в канале (с картинкой и без) за неделю на текущий момент "
   ]
  },
  {
   "cell_type": "code",
   "execution_count": 32,
   "metadata": {
    "id": "aoDMpF9NJuW5"
   },
   "outputs": [],
   "source": [
    "ws = Window.partitionBy('channel_id', 'has_image') \\\n",
    "          .orderBy(sf.col(\"date_time\").cast(\"long\")) \\\n",
    "          .rangeBetween(-604800, 0)\n",
    "\n",
    "post_len_week_max_train = train_all.select('id', 'channel_id', 'has_image', 'date_time', 'text_len')\\\n",
    "  .withColumn('post_len_week_max', sf.max('text_len').over(ws)) \\\n",
    "  .orderBy('channel_id')\n",
    "\n",
    "columns_to_drop = ['channel_id', 'has_image', 'date_time', 'text_len']\n",
    "\n",
    "post_len_week_max_train = post_len_week_max_train.drop(*columns_to_drop)\n",
    "train_all = train_all.join(post_len_week_max_train, on=['id'], how='left')\n",
    "\n",
    "post_len_week_max_test = test_all.select('id', 'channel_id', 'has_image', 'date_time', 'text_len')\\\n",
    "  .withColumn('post_len_week_max', sf.max('text_len').over(ws)) \\\n",
    "  .orderBy('channel_id')\n",
    "\n",
    "post_len_week_max_test = post_len_week_max_test.drop(*columns_to_drop)\n",
    "test_all = test_all.join(post_len_week_max_test, on=['id'], how='left')"
   ]
  },
  {
   "cell_type": "markdown",
   "metadata": {
    "id": "aSMl18O_XXdK"
   },
   "source": [
    "Нагенерим обычные признаки:\n",
    "1. Среднее и стандартное  отклонение количества участников от приватности канала\n",
    "3. Среднее и стандартное  отклонение количества постов от приватности канала\n",
    "4. Среднее и стандартное  отклонение постов и участников от языка описания канала\n"
   ]
  },
  {
   "cell_type": "code",
   "execution_count": 33,
   "metadata": {
    "id": "MvtT73CDfX12"
   },
   "outputs": [],
   "source": [
    "channel_data = channel_data.withColumn('description_lang', text_lang('description'))"
   ]
  },
  {
   "cell_type": "code",
   "execution_count": 34,
   "metadata": {
    "id": "zHQ8LwNbeuAn"
   },
   "outputs": [],
   "source": [
    "private_user_count = channel_data.groupby('is_private').agg(sf.mean('user_count').alias('mean_user_count'), \n",
    "                                              sf.stddev('user_count').alias('stddev_user_count'))\n",
    "\n",
    "private_post = channel_data.groupby('is_private').agg(sf.mean('post_count').alias('mean_post'), \n",
    "                                              sf.stddev('post_count').alias('stddev_samp_post'))\n",
    "\n",
    "lang_discr = channel_data.groupby('description_lang').agg(sf.mean('post_count').alias('lang_mean_post'), \n",
    "                                              sf.stddev('post_count').alias('lang_stddev_samp_post'), \n",
    "                                              sf.mean('user_count').alias('lang_mean_user_count'), \n",
    "                                              sf.stddev('user_count').alias('lang_stddev_user_count'))"
   ]
  },
  {
   "cell_type": "code",
   "execution_count": 35,
   "metadata": {
    "id": "c7x7ZSlCgc9F"
   },
   "outputs": [],
   "source": [
    "train_all = train_all.join(private_user_count, on=['is_private'], how='left')\n",
    "train_all = train_all.join(private_post, on=['is_private'], how='left')\n",
    "train_all = train_all.join(lang_discr, on=['description_lang'], how='left')\n",
    "\n",
    "test_all = test_all.join(private_user_count, on=['is_private'], how='left')\n",
    "test_all = test_all.join(private_post, on=['is_private'], how='left')\n",
    "test_all = test_all.join(lang_discr, on=['description_lang'], how='left')"
   ]
  },
  {
   "cell_type": "markdown",
   "metadata": {
    "id": "FkDSG_-CUKQ-"
   },
   "source": [
    "4. Среднее и стандартное отклонение длины сообщения от языка сообщения"
   ]
  },
  {
   "cell_type": "code",
   "execution_count": 36,
   "metadata": {
    "id": "W6XWdzwZh59u"
   },
   "outputs": [],
   "source": [
    "text_lang_train = train_all.groupby('text_lang').agg(sf.mean('text_len').alias('mean_text_lang'), \n",
    "                                              sf.stddev('text_len').alias('stddev_samp_text_lang'))\n",
    "\n",
    "text_lang_test = test_all.groupby('text_lang').agg(sf.mean('text_len').alias('mean_text_lang'), \n",
    "                                              sf.stddev('text_len').alias('stddev_samp_text_lang'))"
   ]
  },
  {
   "cell_type": "code",
   "execution_count": 37,
   "metadata": {
    "id": "mW48gr2AXyZH"
   },
   "outputs": [],
   "source": [
    "train_all = train_all.join(text_lang_train, on=['text_lang'], how='left')\n",
    "\n",
    "test_all = test_all.join(text_lang_test, on=['text_lang'], how='left')"
   ]
  },
  {
   "cell_type": "markdown",
   "metadata": {
    "id": "mSj5WFslprMO"
   },
   "source": [
    "# make features"
   ]
  },
  {
   "cell_type": "code",
   "execution_count": 38,
   "metadata": {
    "id": "0Ey0iVQkprMP"
   },
   "outputs": [],
   "source": [
    "def make_features(df):\n",
    "    cols = df.columns\n",
    "    return df.select(*cols)"
   ]
  },
  {
   "cell_type": "code",
   "execution_count": 39,
   "metadata": {
    "id": "-6oSLBzEprMP"
   },
   "outputs": [],
   "source": [
    "train_features = make_features(train_all).cache()\n",
    "test_features = make_features(test_all).cache()"
   ]
  },
  {
   "cell_type": "code",
   "execution_count": 40,
   "metadata": {
    "id": "FArjI9RGprMP"
   },
   "outputs": [],
   "source": [
    "train_features.write.csv('train_csv', mode='overwrite', header=True)\n",
    "test_features.write.csv('test_csv', mode='overwrite', header=True)"
   ]
  },
  {
   "cell_type": "markdown",
   "metadata": {
    "id": "0kQumPJBprMQ"
   },
   "source": [
    "# load features to pandas\n",
    "you also can use .toPandas()"
   ]
  },
  {
   "cell_type": "code",
   "execution_count": 1,
   "metadata": {
    "ExecuteTime": {
     "end_time": "2021-06-06T12:17:00.643471Z",
     "start_time": "2021-06-06T12:17:00.272449Z"
    },
    "id": "P4IG8b1rprMQ"
   },
   "outputs": [],
   "source": [
    "import subprocess\n",
    "import glob\n",
    "import os\n",
    "import shutil\n",
    "import pandas as pd\n",
    "import numpy as np\n",
    "\n",
    "def load_and_merge_csv(path, **kwargs):\n",
    "    dfs = []\n",
    "    for g in glob.glob(os.path.join(path, '*.csv')):\n",
    "        dfs.append(pd.read_csv(g, **kwargs))\n",
    "    res = pd.concat(dfs)\n",
    "    res = res.set_index('id')\n",
    "    return res"
   ]
  },
  {
   "cell_type": "code",
   "execution_count": 2,
   "metadata": {
    "ExecuteTime": {
     "end_time": "2021-06-06T12:17:00.647471Z",
     "start_time": "2021-06-06T12:17:00.644471Z"
    },
    "id": "H7Re9Y2ZprMR"
   },
   "outputs": [],
   "source": [
    "# trainXY = load_and_merge_csv('train_csv')\n",
    "# testX = load_and_merge_csv('test_csv')"
   ]
  },
  {
   "cell_type": "markdown",
   "metadata": {
    "id": "AtzGenezVTQ3"
   },
   "source": [
    "Сохраним данные, они очень долго грузились (на всякий случай)"
   ]
  },
  {
   "cell_type": "code",
   "execution_count": 3,
   "metadata": {
    "ExecuteTime": {
     "end_time": "2021-06-06T12:17:00.889485Z",
     "start_time": "2021-06-06T12:17:00.885484Z"
    },
    "id": "SUNyfrz9VQSS"
   },
   "outputs": [],
   "source": [
    "# trainXY.reset_index().to_csv('./drive/MyDrive/HW2/train_data.csv', index=False)\n",
    "# testX.reset_index().to_csv('./drive/MyDrive/HW2/test_data.csv', index=False)"
   ]
  },
  {
   "cell_type": "markdown",
   "metadata": {
    "id": "408tyHiQV5C9"
   },
   "source": [
    "Загрузим данные, если они были сохранены"
   ]
  },
  {
   "cell_type": "code",
   "execution_count": 4,
   "metadata": {
    "ExecuteTime": {
     "end_time": "2021-06-06T12:17:30.043152Z",
     "start_time": "2021-06-06T12:17:01.265506Z"
    },
    "id": "TcXd0JExV-YV"
   },
   "outputs": [
    {
     "name": "stderr",
     "output_type": "stream",
     "text": [
      "E:\\Anaconda\\lib\\site-packages\\IPython\\core\\interactiveshell.py:3165: DtypeWarning: Columns (1) have mixed types.Specify dtype option on import or set low_memory=False.\n",
      "  has_raised = await self.run_ast_nodes(code_ast.body, cell_name,\n"
     ]
    }
   ],
   "source": [
    "trainXY = pd.read_csv('train_data.csv')\n",
    "testX = pd.read_csv('test_data.csv')\n",
    "\n",
    "trainXY = trainXY.set_index('id')\n",
    "testX = testX.set_index('id')"
   ]
  },
  {
   "cell_type": "markdown",
   "metadata": {
    "id": "xUHLeNrSy1IE"
   },
   "source": [
    "Преобразуем данные к нормальному виду, если они были сохранены неправильном формате."
   ]
  },
  {
   "cell_type": "code",
   "execution_count": 5,
   "metadata": {
    "ExecuteTime": {
     "end_time": "2021-06-06T12:17:33.240335Z",
     "start_time": "2021-06-06T12:17:30.044152Z"
    },
    "id": "_KZYHX2llKkE"
   },
   "outputs": [],
   "source": [
    "def change_data_type(df):\n",
    "    df.text_lang = df.text_lang.astype(str)\n",
    "    df.description_lang = df.description_lang.astype(str)\n",
    "    df.titte_lang = df.titte_lang.astype(str)\n",
    "    df.tg_id = df.tg_id.astype(int) \n",
    "    if 'views' in df.columns:\n",
    "        df.views = df.views.astype(int)\n",
    "    df.date = df.date.astype('datetime64')\n",
    "    df.post_count = df.post_count.astype(int)\n",
    "    df.tg_id_channel = df.tg_id_channel.astype(np.int64)\n",
    "    df.user_count = df.user_count.astype(int)\n",
    "    df.days_until_parse = df.days_until_parse.astype(int)\n",
    "    df.text_len = df.text_len.astype(int)             \n",
    "    df.post_number_week = df.post_number_week.astype(int)     \n",
    "    df.post_len_week_max = df.post_len_week_max.astype(int)\n",
    "    return df   \n",
    "\n",
    "trainXY = change_data_type(trainXY)     \n",
    "testX = change_data_type(testX)               "
   ]
  },
  {
   "cell_type": "code",
   "execution_count": 6,
   "metadata": {
    "ExecuteTime": {
     "end_time": "2021-06-06T12:17:34.727420Z",
     "start_time": "2021-06-06T12:17:33.242335Z"
    },
    "id": "stI5X3NBprMR"
   },
   "outputs": [],
   "source": [
    "Ycol = 'views'\n",
    "to_drop = ['channel_id', 'date_time']\n",
    "trainX, trainY = trainXY.drop(Ycol, axis=1).drop(to_drop, axis=1), trainXY[Ycol]\n",
    "trainY = np.log(trainY + 100)\n",
    "\n",
    "testX = testX.drop(to_drop, axis=1)"
   ]
  },
  {
   "cell_type": "code",
   "execution_count": 7,
   "metadata": {
    "ExecuteTime": {
     "end_time": "2021-06-06T12:17:34.942432Z",
     "start_time": "2021-06-06T12:17:34.728420Z"
    },
    "id": "CLfVf_bun1P3"
   },
   "outputs": [],
   "source": [
    "del trainXY"
   ]
  },
  {
   "cell_type": "markdown",
   "metadata": {
    "id": "Xj_6K3r5prMS"
   },
   "source": [
    "## LightGBM"
   ]
  },
  {
   "cell_type": "code",
   "execution_count": 8,
   "metadata": {
    "ExecuteTime": {
     "end_time": "2021-06-06T12:17:41.106785Z",
     "start_time": "2021-06-06T12:17:34.944432Z"
    }
   },
   "outputs": [],
   "source": [
    "from sklearn.model_selection import train_test_split\n",
    "trainX, a, trainY, b = train_test_split(trainX, trainY, train_size=0.05, random_state=42)\n",
    "del a, b"
   ]
  },
  {
   "cell_type": "markdown",
   "metadata": {
    "id": "fxlLKGrgWR4k"
   },
   "source": [
    "Тренеровать будем бустинг"
   ]
  },
  {
   "cell_type": "code",
   "execution_count": 9,
   "metadata": {
    "ExecuteTime": {
     "end_time": "2021-06-06T12:17:41.907831Z",
     "start_time": "2021-06-06T12:17:41.108785Z"
    },
    "id": "Lv_nZXQPprMT"
   },
   "outputs": [],
   "source": [
    "import lightgbm as lgb\n",
    "from sklearn.compose import ColumnTransformer\n",
    "from sklearn.model_selection import train_test_split\n",
    "from sklearn.metrics import mean_absolute_error as MAE\n",
    "from sklearn.metrics import mean_squared_error as MSE\n",
    "from sklearn.compose import ColumnTransformer\n",
    "from sklearn.preprocessing import LabelEncoder\n",
    "\n",
    "import optuna\n",
    "from optuna.samplers import TPESampler"
   ]
  },
  {
   "cell_type": "markdown",
   "metadata": {
    "id": "hTCQ1mCJWWEC"
   },
   "source": [
    "Создадим все метрики качества, которые используются в бейзлайне"
   ]
  },
  {
   "cell_type": "code",
   "execution_count": 10,
   "metadata": {
    "ExecuteTime": {
     "end_time": "2021-06-06T12:17:41.917831Z",
     "start_time": "2021-06-06T12:17:41.908831Z"
    },
    "id": "qRZb1ytYFLLO"
   },
   "outputs": [],
   "source": [
    "def MAPE(y_true, y_pred):\n",
    "    epsilon = np.finfo(np.float64).eps\n",
    "    mape = np.abs(y_pred - y_true) / np.maximum(np.abs(y_true), epsilon)\n",
    "    return np.mean(mape.values)*100\n",
    "\n",
    "def RMSE(y_true, y_pred):\n",
    "    return np.sqrt(MSE(y_true, y_pred))\n",
    "\n",
    "def RMSPE(y_true, y_pred):\n",
    "    epsilon = np.finfo(np.float64).eps\n",
    "    rmspe = (np.sqrt(np.mean(np.square((y_true - y_pred) / (y_true + epsilon))))) * 100\n",
    "    return rmspe\n",
    "\n",
    "class MultiColumnLabelEncoder:\n",
    "    def __init__(self,columns = None):\n",
    "        self.columns = columns \n",
    "        \n",
    "    def fit(self,X,y=None):\n",
    "        return self \n",
    "\n",
    "    def transform(self,X):\n",
    "        '''\n",
    "        Transforms columns of X specified in self.columns using\n",
    "        LabelEncoder(). If no columns specified, transforms all\n",
    "        columns in X.\n",
    "        '''\n",
    "        output = X.copy()\n",
    "        if self.columns is not None:\n",
    "            for col in self.columns:\n",
    "                output[col] = LabelEncoder().fit_transform(output[col])\n",
    "        else:\n",
    "            for colname,col in output.iteritems():\n",
    "                output[colname] = LabelEncoder().fit_transform(col)\n",
    "        return output\n",
    "\n",
    "    def fit_transform(self,X,y=None):\n",
    "        return self.fit(X,y).transform(X)"
   ]
  },
  {
   "cell_type": "markdown",
   "metadata": {
    "id": "Ak0NbWJ3WoZ9"
   },
   "source": [
    "Объединим трейн, тест и сделаем лейбл енкодинг"
   ]
  },
  {
   "cell_type": "code",
   "execution_count": 11,
   "metadata": {
    "ExecuteTime": {
     "end_time": "2021-06-06T12:17:42.025838Z",
     "start_time": "2021-06-06T12:17:41.919831Z"
    },
    "id": "QWVb-oVgWlfw"
   },
   "outputs": [],
   "source": [
    "trainX['train'] = 1\n",
    "testX['train'] = 0\n",
    "X = pd.concat((trainX, testX), axis=0, sort=False)"
   ]
  },
  {
   "cell_type": "code",
   "execution_count": 12,
   "metadata": {
    "ExecuteTime": {
     "end_time": "2021-06-06T12:17:42.787881Z",
     "start_time": "2021-06-06T12:17:42.026838Z"
    },
    "id": "KVjLVT3XHIQr"
   },
   "outputs": [],
   "source": [
    "cat = ['text_lang', 'description_lang', 'is_private', 'tg_id', 'has_image', \n",
    "       'is_forwarded', 'tg_id_channel', 'titte_lang']\n",
    "X = MultiColumnLabelEncoder(columns = cat).fit_transform(X)"
   ]
  },
  {
   "cell_type": "markdown",
   "metadata": {
    "id": "KqqtjbwyXt2T"
   },
   "source": [
    "Разъединим тест и трейн"
   ]
  },
  {
   "cell_type": "code",
   "execution_count": 13,
   "metadata": {
    "ExecuteTime": {
     "end_time": "2021-06-06T12:17:42.944890Z",
     "start_time": "2021-06-06T12:17:42.788881Z"
    },
    "id": "hxivu2U_Xi-2"
   },
   "outputs": [],
   "source": [
    "trainX = X[X.train == 1].drop('train', axis=1)\n",
    "testX = X[X.train == 0].drop(['train', 'date'], axis=1)"
   ]
  },
  {
   "cell_type": "code",
   "execution_count": 14,
   "metadata": {
    "ExecuteTime": {
     "end_time": "2021-06-06T12:17:43.121900Z",
     "start_time": "2021-06-06T12:17:42.945890Z"
    },
    "id": "xeCdLGyYY_9i"
   },
   "outputs": [],
   "source": [
    "trainX['target'] = trainY.values\n",
    "trainX = trainX.sort_values(by='date').reset_index().drop('id', axis=1) \n",
    "\n",
    "y = trainX['target']\n",
    "trainX.drop(['date', 'target'], axis=1, inplace=True)"
   ]
  },
  {
   "cell_type": "code",
   "execution_count": 15,
   "metadata": {
    "ExecuteTime": {
     "end_time": "2021-06-06T12:17:43.132901Z",
     "start_time": "2021-06-06T12:17:43.122900Z"
    }
   },
   "outputs": [],
   "source": [
    "del X"
   ]
  },
  {
   "cell_type": "markdown",
   "metadata": {
    "id": "4V0ERAesZ6sh"
   },
   "source": [
    "Поскольку тестовая часть приходит из будущего, то будем  обучать модель с учетом этого фактора."
   ]
  },
  {
   "cell_type": "code",
   "execution_count": 16,
   "metadata": {
    "ExecuteTime": {
     "end_time": "2021-06-06T12:17:43.142901Z",
     "start_time": "2021-06-06T12:17:43.133901Z"
    },
    "id": "I3ySanUWZyXl"
   },
   "outputs": [],
   "source": [
    "train_inx = range(int(y.shape[0]*0.7)) \n",
    "val_inx = range(int(y.shape[0]*0.7)+1, int(y.shape[0]*0.85))\n",
    "test_inx = range(int(y.shape[0]*0.85)+1, y.shape[0])"
   ]
  },
  {
   "cell_type": "code",
   "execution_count": 17,
   "metadata": {
    "ExecuteTime": {
     "end_time": "2021-06-06T12:17:43.275909Z",
     "start_time": "2021-06-06T12:17:43.143901Z"
    },
    "id": "uf3cs73waQQi"
   },
   "outputs": [],
   "source": [
    "X_train, X_val, X_test = trainX.loc[train_inx], trainX.loc[val_inx], trainX.loc[test_inx]\n",
    "X_global_train = pd.concat([X_train, X_val], ignore_index=True)\n",
    "y_train, y_val, y_test = y.loc[train_inx], y.loc[val_inx], y.loc[test_inx]\n",
    "y_global_train = pd.concat([y_train, y_val], ignore_index=True)"
   ]
  },
  {
   "cell_type": "markdown",
   "metadata": {
    "id": "WoTxrU0ebFTv"
   },
   "source": [
    "Обучим модель"
   ]
  },
  {
   "cell_type": "code",
   "execution_count": 18,
   "metadata": {
    "ExecuteTime": {
     "end_time": "2021-06-06T12:17:43.279909Z",
     "start_time": "2021-06-06T12:17:43.276909Z"
    },
    "id": "RWNMPUb3G7Sd"
   },
   "outputs": [],
   "source": [
    "dtrain = lgb.Dataset(X_train, label=y_train, categorical_feature=cat, free_raw_data=False)\n",
    "dtrain_global = lgb.Dataset(X_global_train, label=y_global_train, categorical_feature=cat, free_raw_data=False)\n",
    "dX = lgb.Dataset(trainX, label=trainY, categorical_feature=cat, free_raw_data=False)"
   ]
  },
  {
   "cell_type": "code",
   "execution_count": null,
   "metadata": {
    "ExecuteTime": {
     "start_time": "2021-06-06T12:17:13.115Z"
    },
    "colab": {
     "base_uri": "https://localhost:8080/"
    },
    "id": "NhfBYkcj8_Uj",
    "outputId": "dc4f74fb-313e-4f69-9db0-bf7c398a3427"
   },
   "outputs": [
    {
     "name": "stderr",
     "output_type": "stream",
     "text": [
      "\u001b[32m[I 2021-06-06 15:17:43,287]\u001b[0m A new study created in memory with name: no-name-d9beab65-cd6b-4514-abfd-3432d6cd9919\u001b[0m\n",
      "E:\\Anaconda\\lib\\site-packages\\lightgbm\\basic.py:1291: UserWarning: Using categorical_feature in Dataset.\n",
      "  warnings.warn('Using categorical_feature in Dataset.')\n",
      "E:\\Anaconda\\lib\\site-packages\\lightgbm\\engine.py:148: UserWarning: Found `num_boost_round` in params. Will use it instead of argument\n",
      "  warnings.warn(\"Found `{}` in params. Will use it instead of argument\".format(alias))\n",
      "E:\\Anaconda\\lib\\site-packages\\lightgbm\\basic.py:863: UserWarning: categorical_column in param dict is overridden.\n",
      "  warnings.warn('{} in param dict is overridden.'.format(cat_alias))\n",
      "\u001b[32m[I 2021-06-06 15:17:55,466]\u001b[0m Trial 7 finished with value: 19.8218737396597 and parameters: {'num_leaves': 13, 'min_child_samples': 210, 'max_depth': 285, 'learning_rate': 0.10691841874191638, 'reg_alpha': 0.5450430095327169, 'reg_lambda': 0.021132400174327638}. Best is trial 7 with value: 19.8218737396597.\u001b[0m\n",
      "\u001b[32m[I 2021-06-06 15:17:56,263]\u001b[0m Trial 5 finished with value: 100.0 and parameters: {'num_leaves': 413, 'min_child_samples': 705, 'max_depth': 206, 'learning_rate': 0.30619109059796407, 'reg_alpha': 0.23574790250260907, 'reg_lambda': 0.5330825378668302}. Best is trial 7 with value: 19.8218737396597.\u001b[0m\n",
      "\u001b[32m[I 2021-06-06 15:19:58,399]\u001b[0m Trial 1 finished with value: 24.80969767693165 and parameters: {'num_leaves': 38, 'min_child_samples': 467, 'max_depth': 131, 'learning_rate': 0.10651488971060097, 'reg_alpha': 0.5559348210371101, 'reg_lambda': 0.23129195739082994}. Best is trial 7 with value: 19.8218737396597.\u001b[0m\n",
      "\u001b[32m[I 2021-06-06 15:21:02,269]\u001b[0m Trial 2 finished with value: 4.4839701925219685e+36 and parameters: {'num_leaves': 413, 'min_child_samples': 427, 'max_depth': 188, 'learning_rate': 0.25624285053391044, 'reg_alpha': 0.5041782357785677, 'reg_lambda': 0.6948914087975566}. Best is trial 7 with value: 19.8218737396597.\u001b[0m\n",
      "\u001b[32m[I 2021-06-06 15:21:51,132]\u001b[0m Trial 3 finished with value: 25.03067211218637 and parameters: {'num_leaves': 87, 'min_child_samples': 472, 'max_depth': 169, 'learning_rate': 0.14557105953070335, 'reg_alpha': 0.05659698828099002, 'reg_lambda': 0.5583827710978426}. Best is trial 7 with value: 19.8218737396597.\u001b[0m\n",
      "\u001b[32m[I 2021-06-06 15:22:06,773]\u001b[0m Trial 9 finished with value: 24.858854598142486 and parameters: {'num_leaves': 54, 'min_child_samples': 607, 'max_depth': 73, 'learning_rate': 0.06890471137601398, 'reg_alpha': 0.3547604594949957, 'reg_lambda': 0.5644250580810363}. Best is trial 7 with value: 19.8218737396597.\u001b[0m\n",
      "\u001b[32m[I 2021-06-06 15:23:22,070]\u001b[0m Trial 6 finished with value: 25.01133359648276 and parameters: {'num_leaves': 292, 'min_child_samples': 986, 'max_depth': 292, 'learning_rate': 0.0669645147700137, 'reg_alpha': 0.06384265262236676, 'reg_lambda': 0.27774818698056675}. Best is trial 7 with value: 19.8218737396597.\u001b[0m\n",
      "\u001b[32m[I 2021-06-06 15:26:40,196]\u001b[0m Trial 10 finished with value: 25.784805506387805 and parameters: {'num_leaves': 211, 'min_child_samples': 638, 'max_depth': 197, 'learning_rate': 0.2612788038958982, 'reg_alpha': 0.538197800776655, 'reg_lambda': 0.15890298760703006}. Best is trial 7 with value: 19.8218737396597.\u001b[0m\n",
      "\u001b[32m[I 2021-06-06 15:27:39,854]\u001b[0m Trial 12 finished with value: 25.424669413941782 and parameters: {'num_leaves': 318, 'min_child_samples': 981, 'max_depth': 160, 'learning_rate': 0.26950514857441715, 'reg_alpha': 0.20429653969566375, 'reg_lambda': 0.4603044507364881}. Best is trial 7 with value: 19.8218737396597.\u001b[0m\n",
      "\u001b[32m[I 2021-06-06 15:28:03,074]\u001b[0m Trial 4 finished with value: 25.00919253485991 and parameters: {'num_leaves': 408, 'min_child_samples': 466, 'max_depth': 193, 'learning_rate': 0.06747929518036766, 'reg_alpha': 0.5357531890918614, 'reg_lambda': 0.13836917974435423}. Best is trial 7 with value: 19.8218737396597.\u001b[0m\n",
      "\u001b[32m[I 2021-06-06 15:29:54,278]\u001b[0m Trial 0 finished with value: 25.42405476962425 and parameters: {'num_leaves': 351, 'min_child_samples': 186, 'max_depth': 111, 'learning_rate': 0.3034588692352869, 'reg_alpha': 0.22972669599101508, 'reg_lambda': 0.06072518856157258}. Best is trial 7 with value: 19.8218737396597.\u001b[0m\n",
      "\u001b[32m[I 2021-06-06 15:32:03,054]\u001b[0m Trial 11 finished with value: 25.15241087522583 and parameters: {'num_leaves': 418, 'min_child_samples': 350, 'max_depth': 81, 'learning_rate': 0.18742958535603313, 'reg_alpha': 0.5118170546849713, 'reg_lambda': 0.11158609303225349}. Best is trial 7 with value: 19.8218737396597.\u001b[0m\n",
      "\u001b[32m[I 2021-06-06 15:32:59,762]\u001b[0m Trial 19 finished with value: 24.946827082390076 and parameters: {'num_leaves': 10, 'min_child_samples': 89, 'max_depth': 283, 'learning_rate': 0.14471659882232607, 'reg_alpha': 0.6733156175891487, 'reg_lambda': 0.28150098927986844}. Best is trial 7 with value: 19.8218737396597.\u001b[0m\n"
     ]
    }
   ],
   "source": [
    "sampler=TPESampler(seed=10)\n",
    "\n",
    "def objective_lgb(trial):    \n",
    "    param = {'num_leaves': trial.suggest_int('num_leaves', 10, 500),\n",
    "          'min_child_samples': trial.suggest_int('min_child_samples', 10, 1000),\n",
    "          'objective': 'rmse',\n",
    "          'max_depth': trial.suggest_int('max_depth', 50, 300),\n",
    "          'learning_rate': trial.suggest_uniform('learning_rate', 0.01, 0.4),\n",
    "          \"metric\": 'rmse',\n",
    "          'reg_alpha': trial.suggest_uniform('reg_alpha', 0.01, 0.7),\n",
    "          'reg_lambda': trial.suggest_uniform('reg_lambda', 0.01, 0.7),\n",
    "          'num_boost_round': 1000}\n",
    "    \n",
    "    gbm = lgb.train(param, dtrain, verbose_eval=False)\n",
    "    preds = gbm.predict(X_val)\n",
    "    RMSPE_score = RMSPE(y_test, preds)\n",
    "    return RMSPE_score\n",
    "\n",
    "study_lgb = optuna.create_study(direction='minimize', sampler=sampler)\n",
    "study_lgb.optimize(objective_lgb, n_trials=50, timeout=None, n_jobs=-1)"
   ]
  },
  {
   "cell_type": "code",
   "execution_count": 26,
   "metadata": {
    "ExecuteTime": {
     "end_time": "2021-06-06T12:10:51.023330Z",
     "start_time": "2021-06-06T12:09:43.102445Z"
    },
    "colab": {
     "base_uri": "https://localhost:8080/"
    },
    "id": "1jRtLygwGpsq",
    "outputId": "f5227562-3e8d-4042-f39a-0f4c5565006d"
   },
   "outputs": [
    {
     "name": "stderr",
     "output_type": "stream",
     "text": [
      "E:\\Anaconda\\lib\\site-packages\\lightgbm\\basic.py:1291: UserWarning: Using categorical_feature in Dataset.\n",
      "  warnings.warn('Using categorical_feature in Dataset.')\n"
     ]
    }
   ],
   "source": [
    "param = {'objective': 'mape', 'seed': 77}\n",
    "gbm = lgb.train(param, dtrain_global, num_boost_round=500)\n",
    "preds = gbm.predict(X_test)\n",
    "RMSPE_score = RMSPE(y_test, preds)\n",
    "MAPE_score = MAPE(y_test, preds)\n",
    "MAE_score = MAE(y_test, preds)\n",
    "RMSE_score = RMSE(y_test, preds)\n",
    "MSE_score = MSE(y_test, preds)"
   ]
  },
  {
   "cell_type": "code",
   "execution_count": 27,
   "metadata": {
    "ExecuteTime": {
     "end_time": "2021-06-06T12:10:51.102334Z",
     "start_time": "2021-06-06T12:10:51.028330Z"
    },
    "colab": {
     "base_uri": "https://localhost:8080/",
     "height": 204
    },
    "id": "9dlSqAF-JGMU",
    "outputId": "f64009ec-4e24-48a6-c8b6-a5085962ce97"
   },
   "outputs": [
    {
     "data": {
      "text/html": [
       "<div>\n",
       "<style scoped>\n",
       "    .dataframe tbody tr th:only-of-type {\n",
       "        vertical-align: middle;\n",
       "    }\n",
       "\n",
       "    .dataframe tbody tr th {\n",
       "        vertical-align: top;\n",
       "    }\n",
       "\n",
       "    .dataframe thead th {\n",
       "        text-align: right;\n",
       "    }\n",
       "</style>\n",
       "<table border=\"1\" class=\"dataframe\">\n",
       "  <thead>\n",
       "    <tr style=\"text-align: right;\">\n",
       "      <th></th>\n",
       "      <th>Baseline</th>\n",
       "      <th>LightGBM</th>\n",
       "    </tr>\n",
       "  </thead>\n",
       "  <tbody>\n",
       "    <tr>\n",
       "      <th>RMSPE</th>\n",
       "      <td>23.500660</td>\n",
       "      <td>16.308871</td>\n",
       "    </tr>\n",
       "    <tr>\n",
       "      <th>MAPE</th>\n",
       "      <td>15.707129</td>\n",
       "      <td>9.190840</td>\n",
       "    </tr>\n",
       "    <tr>\n",
       "      <th>MAE</th>\n",
       "      <td>1.219070</td>\n",
       "      <td>0.691817</td>\n",
       "    </tr>\n",
       "    <tr>\n",
       "      <th>RMSE</th>\n",
       "      <td>1.559627</td>\n",
       "      <td>1.113427</td>\n",
       "    </tr>\n",
       "    <tr>\n",
       "      <th>MSE</th>\n",
       "      <td>2.432438</td>\n",
       "      <td>1.239719</td>\n",
       "    </tr>\n",
       "  </tbody>\n",
       "</table>\n",
       "</div>"
      ],
      "text/plain": [
       "        Baseline   LightGBM\n",
       "RMSPE  23.500660  16.308871\n",
       "MAPE   15.707129   9.190840\n",
       "MAE     1.219070   0.691817\n",
       "RMSE    1.559627   1.113427\n",
       "MSE     2.432438   1.239719"
      ]
     },
     "execution_count": 27,
     "metadata": {},
     "output_type": "execute_result"
    }
   ],
   "source": [
    "results = pd.DataFrame({'Baseline': [23.50065988751091, \n",
    "                                     15.707128974856676,\n",
    "                                     1.219070382113261,\n",
    "                                     1.5596274837655963,\n",
    "                                     2.4324378881170055],\n",
    "    'LightGBM': [RMSPE_score, MAPE_score, MAE_score, RMSE_score, MSE_score]})\n",
    "results.index = ['RMSPE', 'MAPE', 'MAE', 'RMSE', 'MSE']\n",
    "results"
   ]
  },
  {
   "cell_type": "markdown",
   "metadata": {
    "id": "ydkDuLAIzGMj"
   },
   "source": [
    "Поскольку модель со стандартными гиперпарметрами уже показывает результат лучше бейзлайно, то перебирать гиперпараметры не будем. Просто обучим модель на всех данных и сделаем сабмит"
   ]
  },
  {
   "cell_type": "markdown",
   "metadata": {
    "id": "8lUKB_bubMGT"
   },
   "source": [
    "Сформируем предсказания"
   ]
  },
  {
   "cell_type": "code",
   "execution_count": 18,
   "metadata": {
    "colab": {
     "base_uri": "https://localhost:8080/"
    },
    "id": "gpaOUb02bP83",
    "outputId": "1537ea89-ff99-4672-a5fd-3706c58e4ef7"
   },
   "outputs": [
    {
     "name": "stderr",
     "output_type": "stream",
     "text": [
      "/usr/local/lib/python3.7/dist-packages/lightgbm/basic.py:1205: UserWarning: Using categorical_feature in Dataset.\n",
      "  warnings.warn('Using categorical_feature in Dataset.')\n"
     ]
    }
   ],
   "source": [
    "param = {'objective': 'rmse', 'seed': 77}\n",
    "gbm = lgb.train(param, dX, num_boost_round=500)\n",
    "preds_test = np.round(gbm.predict(testX), 5)"
   ]
  },
  {
   "cell_type": "code",
   "execution_count": 19,
   "metadata": {
    "id": "w6mJ8rmFvPxn"
   },
   "outputs": [],
   "source": [
    "assert preds_test.shape == (244386,)"
   ]
  },
  {
   "cell_type": "code",
   "execution_count": 20,
   "metadata": {
    "id": "PZlJ_Qo_owMJ"
   },
   "outputs": [],
   "source": [
    "# testX = testX.reset_index().rename(columns={'index':'id'})\n",
    "# testX = testX.set_index('id')\n",
    "# testX"
   ]
  },
  {
   "cell_type": "markdown",
   "metadata": {
    "id": "GbaAQn7pprMT"
   },
   "source": [
    "# submit"
   ]
  },
  {
   "cell_type": "code",
   "execution_count": 21,
   "metadata": {
    "colab": {
     "base_uri": "https://localhost:8080/"
    },
    "id": "s-FaENmwprMT",
    "outputId": "d06eae50-abec-432e-d109-bc90c0e8d376"
   },
   "outputs": [
    {
     "name": "stdout",
     "output_type": "stream",
     "text": [
      "  % Total    % Received % Xferd  Average Speed   Time    Time     Time  Current\n",
      "                                 Dload  Upload   Total   Spent    Left  Speed\n",
      "100  1906  100  1906    0     0   8251      0 --:--:-- --:--:-- --:--:--  8251\n"
     ]
    }
   ],
   "source": [
    "! curl -H 'Cache-Control: no-cache' https://raw.githubusercontent.com/mike0sv/lsml_submit_server/2021/src/client.py -o client.py"
   ]
  },
  {
   "cell_type": "code",
   "execution_count": 22,
   "metadata": {
    "id": "M3MkLidRprMU"
   },
   "outputs": [],
   "source": [
    "import client"
   ]
  },
  {
   "cell_type": "code",
   "execution_count": 23,
   "metadata": {
    "colab": {
     "base_uri": "https://localhost:8080/"
    },
    "id": "OrXK34uoprMW",
    "outputId": "7b2e8ba1-fc3e-464f-8cb6-38a662019fe3"
   },
   "outputs": [
    {
     "name": "stdout",
     "output_type": "stream",
     "text": [
      "Enter username:\n",
      "user25\n",
      "Enter password:\n",
      "··········\n"
     ]
    },
    {
     "data": {
      "text/plain": [
       "{'data': {'mape': 15.155165215400004,\n",
       "  'mean_absolute_error': 1.133835040144799,\n",
       "  'mean_squared_error': 2.392502846343855,\n",
       "  'rmse': 1.5467717499178264,\n",
       "  'rmspe': 24.51301322038978},\n",
       " 'ok': True}"
      ]
     },
     "execution_count": 23,
     "metadata": {
      "tags": []
     },
     "output_type": "execute_result"
    }
   ],
   "source": [
    "client.make_eval(pd.DataFrame({'views': preds_test}, index=testX.index))"
   ]
  },
  {
   "cell_type": "code",
   "execution_count": null,
   "metadata": {
    "colab": {
     "base_uri": "https://localhost:8080/"
    },
    "id": "WUYhkQEEprMX",
    "outputId": "166e27ac-f888-4772-f489-934266c6e4b1"
   },
   "outputs": [
    {
     "data": {
      "text/plain": [
       "{}"
      ]
     },
     "execution_count": 34,
     "metadata": {
      "tags": []
     },
     "output_type": "execute_result"
    }
   ],
   "source": [
    "client.check_results()"
   ]
  }
 ],
 "metadata": {
  "colab": {
   "collapsed_sections": [],
   "name": "HW2_gorbetskiy.ipynb",
   "provenance": []
  },
  "kernelspec": {
   "display_name": "Python 3",
   "language": "python",
   "name": "python3"
  },
  "language_info": {
   "codemirror_mode": {
    "name": "ipython",
    "version": 3
   },
   "file_extension": ".py",
   "mimetype": "text/x-python",
   "name": "python",
   "nbconvert_exporter": "python",
   "pygments_lexer": "ipython3",
   "version": "3.8.5"
  }
 },
 "nbformat": 4,
 "nbformat_minor": 1
}
