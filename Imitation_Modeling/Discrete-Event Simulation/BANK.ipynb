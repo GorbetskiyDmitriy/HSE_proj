{
 "cells": [
  {
   "cell_type": "code",
   "execution_count": 2,
   "metadata": {
    "ExecuteTime": {
     "end_time": "2021-06-09T15:58:59.355832Z",
     "start_time": "2021-06-09T15:58:57.381585Z"
    }
   },
   "outputs": [],
   "source": [
    "import simpy\n",
    "import numpy as np\n",
    "import pandas as pd\n",
    "import matplotlib.pyplot as plt\n",
    "from tqdm.auto import tqdm\n",
    "import warnings\n",
    "import random"
   ]
  },
  {
   "cell_type": "code",
   "execution_count": 123,
   "metadata": {
    "ExecuteTime": {
     "end_time": "2021-06-09T17:07:50.340167Z",
     "start_time": "2021-06-09T17:07:50.333180Z"
    }
   },
   "outputs": [],
   "source": [
    "RANDOM_SEED = 42\n",
    "INTERVAL_CUSTOMERS = 10.0  # Generate new customers roughly every x seconds\n",
    "CLIENTS_PER_TIME = 60/INTERVAL_CUSTOMERS\n",
    "MIN_PATIENCE = 1  # Min. customer patience\n",
    "MAX_PATIENCE = 3  # Max. customer patience\n",
    "N_STEPS = 5000\n",
    "\n",
    "TIME_IN_BANK_0 = 9\n",
    "PROFIT_0 = 3 - 0.3\n",
    "LOSS_0 = 1.1\n",
    "\n",
    "TIME_IN_BANK_1 = 15\n",
    "PROFIT_1 = 6 - 0.5\n",
    "LOSS_1 = 2.5\n",
    "\n",
    "PAYMENT_PER_WINDOW = 0.03\n",
    "WINDOWS = 3"
   ]
  },
  {
   "cell_type": "code",
   "execution_count": 124,
   "metadata": {
    "ExecuteTime": {
     "end_time": "2021-06-09T17:07:50.527077Z",
     "start_time": "2021-06-09T17:07:50.521092Z"
    }
   },
   "outputs": [],
   "source": [
    "class BANK(object):\n",
    "    def __init__(self, env):\n",
    "        self.env = env\n",
    "        self.window = simpy.Resource(env, capacity=WINDOWS)\n",
    "\n",
    "    def service(self, client, client_type):\n",
    "        if client_type:\n",
    "            yield self.env.timeout(np.random.exponential(1/TIME_IN_BANK_1))\n",
    "        else:\n",
    "            yield self.env.timeout(np.random.exponential(1/TIME_IN_BANK_0))"
   ]
  },
  {
   "cell_type": "code",
   "execution_count": 125,
   "metadata": {
    "ExecuteTime": {
     "end_time": "2021-06-09T17:07:50.704951Z",
     "start_time": "2021-06-09T17:07:50.697972Z"
    }
   },
   "outputs": [],
   "source": [
    "def go_to_bank(env, client, client_type,  bank):\n",
    "    arrival_time = env.now\n",
    "    len_queue.append(len(bank.window.queue)) # длина очереди \n",
    "    clients_in_CMO.append(len(bank.window.queue) + len(bank.window.users)) # количество заявок в СМО\n",
    "    clients_in_process.append(len(bank.window.users)) # число занятых каналов\n",
    "    \n",
    "    with bank.window.request() as request:\n",
    "        patience = random.uniform(MIN_PATIENCE, MAX_PATIENCE)\n",
    "        # Wait for the counter or abort at the end of our tether\n",
    "        results = yield request | env.timeout(patience)\n",
    "\n",
    "        wait_time_in_queue.append(env.now - arrival_time)\n",
    "\n",
    "        if request in results:\n",
    "            yield env.process(bank.service(client, client_type))\n",
    "\n",
    "        else:\n",
    "            global clients_gone\n",
    "            wait_times.append(env.now - arrival_time) \n",
    "            clients_gone += 1"
   ]
  },
  {
   "cell_type": "code",
   "execution_count": 128,
   "metadata": {
    "ExecuteTime": {
     "end_time": "2021-06-09T17:08:47.935863Z",
     "start_time": "2021-06-09T17:08:47.929880Z"
    }
   },
   "outputs": [],
   "source": [
    "def run_bank(env):\n",
    "    bank = BANK(env)\n",
    "    \n",
    "    global clients_total\n",
    "    while True:\n",
    "        yield env.timeout(np.random.exponential(1/CLIENTS_PER_TIME))\n",
    "        client_type = np.random.choice([0, 1], p=[0.75, 0.25])\n",
    "        clients_total += 1\n",
    "        clients_total_types[client_type] += 1\n",
    "        env.process(go_to_bank(env, clients_total, client_type, bank))"
   ]
  },
  {
   "cell_type": "code",
   "execution_count": 129,
   "metadata": {
    "ExecuteTime": {
     "end_time": "2021-06-09T17:08:51.271341Z",
     "start_time": "2021-06-09T17:08:48.435243Z"
    }
   },
   "outputs": [
    {
     "name": "stdout",
     "output_type": "stream",
     "text": [
      "Имитационные результаты:\n",
      "----------------------------------------------------------------\n",
      "Вероятность того, что СМО свободна и может обслужить заявку = 0.54639\n",
      "Вероятность отказа = 0.0\n",
      "Относительная пропускная способность = 1.0\n",
      "Абсолютная пропускная способность = 3.0015\n",
      "Среднее число занятых каналов = 0.60586\n",
      "Средняя длина очереди = 0.0059\n",
      "Среднее время обслуживания в очереди = 0.00099\n",
      "Среднее число заявок в СМО = 0.61176\n",
      "Среднее время пребывания заявки в СМО = nan\n",
      "\n"
     ]
    }
   ],
   "source": [
    "clients_total_types = {0: 0, 1: 0}\n",
    "clients_total, clients_gone = [0 for x in range(2)]\n",
    "wait_times, len_queue, clients_in_CMO, clients_in_process, wait_time_in_queue = [[] for x in range(5)]\n",
    "\n",
    "env = simpy.Environment()\n",
    "env.process(run_bank(env))\n",
    "env.run(until=N_STEPS)\n",
    "print('''Имитационные результаты:\n",
    "----------------------------------------------------------------\n",
    "Вероятность того, что СМО свободна и может обслужить заявку = {}\n",
    "Вероятность отказа = {}\n",
    "Относительная пропускная способность = {}\n",
    "Абсолютная пропускная способность = {}\n",
    "Среднее число занятых каналов = {}\n",
    "Средняя длина очереди = {}\n",
    "Среднее время обслуживания в очереди = {}\n",
    "Среднее число заявок в СМО = {}\n",
    "Среднее время пребывания заявки в СМО = {}\n",
    "'''.format(round(clients_in_process.count(0)/clients_total, 5),\n",
    "           round(clients_gone/clients_total, 5),\n",
    "           round(1 - clients_gone/clients_total, 5),\n",
    "           round((clients_total-clients_gone)/emitation_time, 5),\n",
    "           round(np.mean(clients_in_process), 5),\n",
    "           round(np.mean(len_queue), 5),\n",
    "           round(np.mean(wait_time_in_queue), 5),\n",
    "           round(np.mean(clients_in_CMO), 5),\n",
    "           round(np.mean(wait_times), 5)))"
   ]
  },
  {
   "cell_type": "code",
   "execution_count": 96,
   "metadata": {
    "ExecuteTime": {
     "end_time": "2021-06-09T16:47:20.459902Z",
     "start_time": "2021-06-09T16:47:20.456877Z"
    }
   },
   "outputs": [],
   "source": [
    "# \n",
    "client_type = np.random.choice([0, 1], p=[0.75, 0.25])\n",
    "clients_total[client_type] += 1"
   ]
  },
  {
   "cell_type": "code",
   "execution_count": 97,
   "metadata": {
    "ExecuteTime": {
     "end_time": "2021-06-09T16:47:25.373691Z",
     "start_time": "2021-06-09T16:47:25.364295Z"
    }
   },
   "outputs": [
    {
     "data": {
      "text/plain": [
       "{0: 20, 1: 6}"
      ]
     },
     "execution_count": 97,
     "metadata": {},
     "output_type": "execute_result"
    }
   ],
   "source": [
    "clients_total"
   ]
  },
  {
   "cell_type": "code",
   "execution_count": null,
   "metadata": {},
   "outputs": [],
   "source": [
    "def customer(env, name, counter, time_in_bank):\n",
    "    \"\"\"Customer arrives, is served and leaves.\"\"\"\n",
    "    arrive = env.now"
   ]
  },
  {
   "cell_type": "code",
   "execution_count": 60,
   "metadata": {
    "ExecuteTime": {
     "end_time": "2021-06-09T16:00:08.610852Z",
     "start_time": "2021-06-09T16:00:08.602687Z"
    }
   },
   "outputs": [
    {
     "name": "stdout",
     "output_type": "stream",
     "text": [
      "8.32580071659295\n"
     ]
    },
    {
     "data": {
      "text/plain": [
       "4.426415068240226"
      ]
     },
     "execution_count": 60,
     "metadata": {},
     "output_type": "execute_result"
    }
   ],
   "source": [
    "interval = 10\n",
    "print(random.expovariate(1.0 / interval))\n",
    "np.random.exponential(interval)"
   ]
  },
  {
   "cell_type": "code",
   "execution_count": null,
   "metadata": {},
   "outputs": [],
   "source": [
    "  \n",
    "    with counter.request() as req:\n",
    "        patience = random.uniform(MIN_PATIENCE, MAX_PATIENCE)\n",
    "        results = yield req | env.timeout(patience)\n",
    "        wait = env.now - arrive\n",
    "        \n",
    "        if req in results:\n",
    "            # We got to the counter\n",
    "            print('%7.4f %s: Waited %6.3f' % (env.now, name, wait))\n",
    "\n",
    "            tib = random.expovariate(1.0 / time_in_bank)\n",
    "            yield env.timeout(tib)\n",
    "        "
   ]
  }
 ],
 "metadata": {
  "kernelspec": {
   "display_name": "Python 3",
   "language": "python",
   "name": "python3"
  },
  "language_info": {
   "codemirror_mode": {
    "name": "ipython",
    "version": 3
   },
   "file_extension": ".py",
   "mimetype": "text/x-python",
   "name": "python",
   "nbconvert_exporter": "python",
   "pygments_lexer": "ipython3",
   "version": "3.8.5"
  }
 },
 "nbformat": 4,
 "nbformat_minor": 4
}
