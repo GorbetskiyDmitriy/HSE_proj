{
 "cells": [
  {
   "cell_type": "markdown",
   "metadata": {},
   "source": [
    "# Выполнил: Горбецкий Дмитрий\n",
    "\n",
    "## Задача 1\n",
    "\n",
    "В парикмахерской работают 3 мастера, а в зале ожидания расположены 3 стула. Поток клиентов имеет интенсивность 12 клиентов в час. Среднее время обслуживания составляет 20 мин. Определить показатели работы СМО."
   ]
  },
  {
   "cell_type": "code",
   "execution_count": 1,
   "metadata": {
    "ExecuteTime": {
     "end_time": "2021-02-08T12:03:15.762442Z",
     "start_time": "2021-02-08T12:03:14.096197Z"
    }
   },
   "outputs": [],
   "source": [
    "import simpy\n",
    "import numpy as np\n",
    "import pandas as pd\n",
    "import matplotlib.pyplot as plt\n",
    "from tqdm.auto import tqdm\n",
    "import warnings\n",
    "warnings.filterwarnings('ignore')\n",
    "from math import factorial"
   ]
  },
  {
   "cell_type": "markdown",
   "metadata": {},
   "source": [
    "## Аналитическое решение\n",
    "#### Начнем заполнять основные показатель работы СМО:\n",
    "В нашем случае это многоканальное СМО смешенного типа с ограничением на очередь. За единицу времени будем принимать астрономический час. Сначала выпишем условие и простые показатели, которые можно посчитать на его основании в стандартных обозначениях СМО\n",
    "\n",
    "1. Число каналов $n = 3$\n",
    "2. Максимальная очередь (зал ожидания) $m = 3$\n",
    "3. Интенсивность входящего потока $\\lambda = 12$ \n",
    "4. Среднее время обслуживания одной заявки $\\overline{T}_{об} = {20\\over{60}} = {1\\over{3}}$\n",
    "5. Интенсивность потока обслуживания $\\mu = {1\\over{\\overline{T}_{об}}} = 3$ \n",
    "6. Интенсивность нагрузки каналов $\\rho = {\\lambda\\over\\mu} = 4$\n",
    "7. Интенсивность нагрузки *одного* канала ${\\rho\\over n} = {4 \\over 3}$\n",
    "\n",
    "\n",
    "Прейдем к более сложным вычислениям:\n",
    "\n",
    "8. Вероятность того, что СМО свободна и может обслужить заявку $p_{0}=\\frac{1}{\\sum_{i=0}^{n} \\frac{\\rho^{i}}{i !}+\\frac{\\rho^{n+1}}{n!(n-\\rho)}\\left(1-\\left(\\frac{\\rho}{n}\\right)^{m}\\right)} \\approx 0.0121 $\n"
   ]
  },
  {
   "cell_type": "code",
   "execution_count": 2,
   "metadata": {
    "ExecuteTime": {
     "end_time": "2021-02-08T12:03:15.771419Z",
     "start_time": "2021-02-08T12:03:15.764442Z"
    }
   },
   "outputs": [
    {
     "data": {
      "text/plain": [
       "0.012174958665263795"
      ]
     },
     "execution_count": 2,
     "metadata": {},
     "output_type": "execute_result"
    }
   ],
   "source": [
    "ro, m, n = 4, 3, 3\n",
    "p0 = 1/((1 + ro + ro**2/factorial(2) + ro**3/factorial(3)) + ro**(n+1)/(factorial(n)*(n-ro)) * (1-(ro/n)**m))\n",
    "p0"
   ]
  },
  {
   "cell_type": "markdown",
   "metadata": {},
   "source": [
    "9. Вероятность отказа $P_{\\text {oтк }} = P_{n+m}=\\frac{\\rho^{n+m} P_{0}}{n ! n^{m}} \\approx 0.308$"
   ]
  },
  {
   "cell_type": "code",
   "execution_count": 3,
   "metadata": {
    "ExecuteTime": {
     "end_time": "2021-02-08T12:03:15.784385Z",
     "start_time": "2021-02-08T12:03:15.775408Z"
    }
   },
   "outputs": [
    {
     "data": {
      "text/plain": [
       "0.30783105366000313"
      ]
     },
     "execution_count": 3,
     "metadata": {},
     "output_type": "execute_result"
    }
   ],
   "source": [
    "Pnm = (ro**(n+m)*p0)/(factorial(n)*n**m)\n",
    "Pnm "
   ]
  },
  {
   "cell_type": "markdown",
   "metadata": {},
   "source": [
    "10. Относительная пропускная способность $Q=1-P_{\\text {oтк }}  \\approx 0.692$\n",
    "11. Абсолютная пропускная способность $A=\\lambda Q\\approx 8.31$\n",
    "12. Среднее число занятых каналов $\\bar{k}=\\frac{A}{\\mu} \\approx 2.77$\n",
    "13. Средняя длина очереди $L=\\frac{P_{0} \\rho^{n}\\left(\\frac{\\rho}{n}-(m+1)\\left(\\frac{\\rho}{n}\\right)^{m+1}+m\\left(\\frac{\\rho}{n}\\right)^{m+2}\\right)}{n !\\left(1-\\frac{\\rho}{n}\\right)^{2}} \\approx 1.56$"
   ]
  },
  {
   "cell_type": "code",
   "execution_count": 4,
   "metadata": {
    "ExecuteTime": {
     "end_time": "2021-02-08T12:03:15.798345Z",
     "start_time": "2021-02-08T12:03:15.785381Z"
    }
   },
   "outputs": [
    {
     "data": {
      "text/plain": [
       "0.6921689463399969"
      ]
     },
     "execution_count": 4,
     "metadata": {},
     "output_type": "execute_result"
    }
   ],
   "source": [
    "Q = 1 - Pnm\n",
    "Q"
   ]
  },
  {
   "cell_type": "code",
   "execution_count": 5,
   "metadata": {
    "ExecuteTime": {
     "end_time": "2021-02-08T12:03:15.811312Z",
     "start_time": "2021-02-08T12:03:15.799344Z"
    }
   },
   "outputs": [
    {
     "data": {
      "text/plain": [
       "8.306027356079962"
      ]
     },
     "execution_count": 5,
     "metadata": {},
     "output_type": "execute_result"
    }
   ],
   "source": [
    "A = 12 * Q \n",
    "A"
   ]
  },
  {
   "cell_type": "code",
   "execution_count": 6,
   "metadata": {
    "ExecuteTime": {
     "end_time": "2021-02-08T12:03:15.828636Z",
     "start_time": "2021-02-08T12:03:15.812310Z"
    }
   },
   "outputs": [
    {
     "data": {
      "text/plain": [
       "2.7686757853599873"
      ]
     },
     "execution_count": 6,
     "metadata": {},
     "output_type": "execute_result"
    }
   ],
   "source": [
    "k = A / 3 \n",
    "k"
   ]
  },
  {
   "cell_type": "code",
   "execution_count": 7,
   "metadata": {
    "ExecuteTime": {
     "end_time": "2021-02-08T12:03:15.843595Z",
     "start_time": "2021-02-08T12:03:15.831627Z"
    }
   },
   "outputs": [
    {
     "data": {
      "text/plain": [
       "1.558394709153765"
      ]
     },
     "execution_count": 7,
     "metadata": {},
     "output_type": "execute_result"
    }
   ],
   "source": [
    "L = (p0*ro**n*(ro/n - (m+1)*(ro/n)**(m+1) + m*(ro/n)**(m+2)))/(factorial(n)*(1-ro/n)**2)\n",
    "L"
   ]
  },
  {
   "cell_type": "markdown",
   "metadata": {},
   "source": [
    "14. Среднее время ожидания обслуживания в очереди $t = {L \\over \\lambda} \\approx 0.13 $\n",
    "15. Среднее число заявок в СМО $М = L + \\bar{k} \\approx 4.33$\n",
    "16. Среднее время пребывания заявки в СМО $T = {M \\over \\lambda} \\approx 0.36$"
   ]
  },
  {
   "cell_type": "code",
   "execution_count": 8,
   "metadata": {
    "ExecuteTime": {
     "end_time": "2021-02-08T12:03:15.856560Z",
     "start_time": "2021-02-08T12:03:15.845590Z"
    }
   },
   "outputs": [
    {
     "data": {
      "text/plain": [
       "0.12986622576281376"
      ]
     },
     "execution_count": 8,
     "metadata": {},
     "output_type": "execute_result"
    }
   ],
   "source": [
    "t = L / 12\n",
    "t"
   ]
  },
  {
   "cell_type": "code",
   "execution_count": 9,
   "metadata": {
    "ExecuteTime": {
     "end_time": "2021-02-08T12:03:15.868529Z",
     "start_time": "2021-02-08T12:03:15.857559Z"
    }
   },
   "outputs": [
    {
     "data": {
      "text/plain": [
       "4.327070494513753"
      ]
     },
     "execution_count": 9,
     "metadata": {},
     "output_type": "execute_result"
    }
   ],
   "source": [
    "M = L + k\n",
    "M"
   ]
  },
  {
   "cell_type": "code",
   "execution_count": 10,
   "metadata": {
    "ExecuteTime": {
     "end_time": "2021-02-08T12:03:15.882492Z",
     "start_time": "2021-02-08T12:03:15.869525Z"
    }
   },
   "outputs": [
    {
     "data": {
      "text/plain": [
       "0.36058920787614607"
      ]
     },
     "execution_count": 10,
     "metadata": {},
     "output_type": "execute_result"
    }
   ],
   "source": [
    "T = M / 12\n",
    "T"
   ]
  },
  {
   "cell_type": "markdown",
   "metadata": {},
   "source": [
    "## ИМ модель"
   ]
  },
  {
   "cell_type": "code",
   "execution_count": 11,
   "metadata": {
    "ExecuteTime": {
     "end_time": "2021-02-08T12:03:15.895459Z",
     "start_time": "2021-02-08T12:03:15.883488Z"
    }
   },
   "outputs": [],
   "source": [
    "MASTERS = 3\n",
    "MAX_WAIT_ZONE = 3\n",
    "CLIENT_PER_HOUR = 12\n",
    "HAIR_CUT_TIME = 1/3"
   ]
  },
  {
   "cell_type": "code",
   "execution_count": 12,
   "metadata": {
    "ExecuteTime": {
     "end_time": "2021-02-08T12:03:15.908433Z",
     "start_time": "2021-02-08T12:03:15.896455Z"
    }
   },
   "outputs": [],
   "source": [
    "class Barber_shop(object):\n",
    "    def __init__(self, env):\n",
    "        self.env = env\n",
    "        self.master = simpy.Resource(env, capacity=MASTERS)\n",
    "\n",
    "    def hair_cut(self, client):\n",
    "         yield self.env.timeout(np.random.exponential(HAIR_CUT_TIME))"
   ]
  },
  {
   "cell_type": "code",
   "execution_count": 13,
   "metadata": {
    "ExecuteTime": {
     "end_time": "2021-02-08T12:03:15.923381Z",
     "start_time": "2021-02-08T12:03:15.910417Z"
    }
   },
   "outputs": [],
   "source": [
    "def go_to_barber_shop(env, client, barber_shop):\n",
    "    arrival_time = env.now\n",
    "    len_queue.append(len(barber_shop.master.queue)) # длина очереди \n",
    "    clients_in_CMO.append(len(barber_shop.master.queue) + len(barber_shop.master.users)) # количество заявок в СМО\n",
    "    clients_in_process.append(len(barber_shop.master.users)) # число занятых каналов\n",
    "        \n",
    "    if len(barber_shop.master.queue) >= MAX_WAIT_ZONE:  # Ограничение на очередь в 3 человека\n",
    "        global clients_gone\n",
    "        wait_times.append(env.now - arrival_time) # не совсем интуитивно понятно, что в среднем времени пребывании заявки\n",
    "        wait_time_in_queue.append(env.now - arrival_time) # в СМО необходимо учитывать и этих людей, но ладно...\n",
    "        clients_gone += 1 # количество клиентов, ушедших из-за большой очереди\n",
    "    \n",
    "    else:\n",
    "        with barber_shop.master.request() as request:\n",
    "            yield request\n",
    "            wait_time_in_queue.append(env.now - arrival_time) # время пребывания в очереди\n",
    "            yield env.process(barber_shop.hair_cut(client))\n",
    "        wait_times.append(env.now - arrival_time) # время пребывания клиента в СМО"
   ]
  },
  {
   "cell_type": "code",
   "execution_count": 14,
   "metadata": {
    "ExecuteTime": {
     "end_time": "2021-02-08T12:03:15.937380Z",
     "start_time": "2021-02-08T12:03:15.924378Z"
    }
   },
   "outputs": [],
   "source": [
    "def run_barber_shop(env):\n",
    "    barber_shop = Barber_shop(env)\n",
    "    \n",
    "    global clients_total\n",
    "    # предполагаем, что в момент запуска СМО является свободным\n",
    "    while True:\n",
    "        # интенсивность потока - 12\n",
    "        # интервал времени между двумя произвольными соседними событиями имеет показательное распределение\n",
    "        yield env.timeout(np.random.exponential(1/CLIENT_PER_HOUR))\n",
    "        clients_total += 1 # счетчик пришедших клиентов\n",
    "        env.process(go_to_barber_shop(env, clients_total, barber_shop))"
   ]
  },
  {
   "cell_type": "code",
   "execution_count": 15,
   "metadata": {
    "ExecuteTime": {
     "end_time": "2021-02-08T12:03:21.047819Z",
     "start_time": "2021-02-08T12:03:15.939341Z"
    }
   },
   "outputs": [
    {
     "name": "stdout",
     "output_type": "stream",
     "text": [
      "Имитационные результаты:\n",
      "----------------------------------------------------------------\n",
      "Вероятность того, что СМО свободна и может обслужить заявку = 0.01173\n",
      "Вероятность отказа = 0.30976\n",
      "Относительная пропускная способность = 0.69024\n",
      "Абсолютная пропускная способность = 8.3067\n",
      "Среднее число занятых каналов = 2.77263\n",
      "Средняя длина очереди = 1.566\n",
      "Среднее время обслуживания в очереди = 0.13031\n",
      "Среднее число заявок в СМО = 4.33863\n",
      "Среднее время пребывания заявки в СМО = 0.36071\n",
      "\n"
     ]
    }
   ],
   "source": [
    "clients_total, clients_gone = [0 for x in range(2)]\n",
    "wait_times, len_queue, clients_in_CMO, clients_in_process, wait_time_in_queue = [[] for x in range(5)]\n",
    "emitation_time = 10000\n",
    "\n",
    "env = simpy.Environment()\n",
    "env.process(run_barber_shop(env))\n",
    "env.run(until=emitation_time)\n",
    "print('''Имитационные результаты:\n",
    "----------------------------------------------------------------\n",
    "Вероятность того, что СМО свободна и может обслужить заявку = {}\n",
    "Вероятность отказа = {}\n",
    "Относительная пропускная способность = {}\n",
    "Абсолютная пропускная способность = {}\n",
    "Среднее число занятых каналов = {}\n",
    "Средняя длина очереди = {}\n",
    "Среднее время обслуживания в очереди = {}\n",
    "Среднее число заявок в СМО = {}\n",
    "Среднее время пребывания заявки в СМО = {}\n",
    "'''.format(round(clients_in_process.count(0)/clients_total, 5),\n",
    "           round(clients_gone/clients_total, 5),\n",
    "           round(1 - clients_gone/clients_total, 5),\n",
    "           round((clients_total-clients_gone)/emitation_time, 5),\n",
    "           round(np.mean(clients_in_process), 5),\n",
    "           round(np.mean(len_queue), 5),\n",
    "           round(np.mean(wait_time_in_queue), 5),\n",
    "           round(np.mean(clients_in_CMO), 5),\n",
    "           round(np.mean(wait_times), 5)))"
   ]
  },
  {
   "cell_type": "markdown",
   "metadata": {
    "ExecuteTime": {
     "end_time": "2021-02-05T06:59:46.544269Z",
     "start_time": "2021-02-05T06:59:46.539282Z"
    }
   },
   "source": [
    "Поиск номера итерации (времени) за которое модель сходится будем искать путем множественных симуляций с разным временем имитации. Если отклонение всех имитационных показателей от аналитических меньше, чем эпсилон (возьмем $0.5$% от аналитического показателя), то будем считать, что мы нашли сходимость. И за данное количество итераций имитационная модель сходится. "
   ]
  },
  {
   "cell_type": "code",
   "execution_count": 16,
   "metadata": {
    "ExecuteTime": {
     "end_time": "2021-02-08T12:03:40.468287Z",
     "start_time": "2021-02-08T12:03:21.048764Z"
    }
   },
   "outputs": [
    {
     "data": {
      "application/vnd.jupyter.widget-view+json": {
       "model_id": "2a2d21367a40441ea054b5f200d74e2d",
       "version_major": 2,
       "version_minor": 0
      },
      "text/plain": [
       "HBox(children=(HTML(value=''), FloatProgress(value=0.0, max=150.0), HTML(value='')))"
      ]
     },
     "metadata": {},
     "output_type": "display_data"
    },
    {
     "name": "stdout",
     "output_type": "stream",
     "text": [
      "\n"
     ]
    }
   ],
   "source": [
    "df = pd.DataFrame({'p0':[],\n",
    "                   'P_otk':[],\n",
    "                   'Q':[],\n",
    "                   'A':[],\n",
    "                   'k':[],\n",
    "                   'L':[],\n",
    "                   't':[],\n",
    "                   'M':[],\n",
    "                   'T':[]})\n",
    "\n",
    "imitation_vs_analysis = pd.DataFrame(columns = df.columns)\n",
    "imitation_vs_analysis.loc['analysis'] = np.round(np.array([p0, Pnm, Q, A, k, L, t, M, T]), 5).tolist()\n",
    "\n",
    "emitation_time_line = np.linspace(1, 15001, 150, endpoint=False)\n",
    "for i in tqdm(range(len(emitation_time_line))):\n",
    "    clients_total, clients_gone = [0 for x in range(2)]\n",
    "    wait_times, len_queue, clients_in_CMO, clients_in_process, wait_time_in_queue = [[] for x in range(5)]\n",
    "    emitation_time = emitation_time_line[i]\n",
    "\n",
    "    env = simpy.Environment()\n",
    "    env.process(run_barber_shop(env))\n",
    "    env.run(until=emitation_time)\n",
    "    df.loc[np.int64(emitation_time_line[i])] = [round(clients_in_process.count(0)/clients_total, 5),\n",
    "           round(clients_gone/clients_total, 5),\n",
    "           round(1 - clients_gone/clients_total, 5),\n",
    "           round((clients_total-clients_gone)/emitation_time, 5),\n",
    "           round(np.mean(clients_in_process), 5),\n",
    "           round(np.mean(len_queue), 5),\n",
    "           round(np.mean(wait_time_in_queue), 5),\n",
    "           round(np.mean(clients_in_CMO), 5),\n",
    "           round(np.mean(wait_times), 5)]\n",
    "    if all(abs(imitation_vs_analysis.iloc[0].values - df.iloc[i].values) \\\n",
    "    < imitation_vs_analysis.iloc[0].values*0.005):\n",
    "        break"
   ]
  },
  {
   "cell_type": "code",
   "execution_count": 17,
   "metadata": {
    "ExecuteTime": {
     "end_time": "2021-02-08T12:03:40.499726Z",
     "start_time": "2021-02-08T12:03:40.470279Z"
    },
    "scrolled": true
   },
   "outputs": [
    {
     "data": {
      "text/html": [
       "<div>\n",
       "<style scoped>\n",
       "    .dataframe tbody tr th:only-of-type {\n",
       "        vertical-align: middle;\n",
       "    }\n",
       "\n",
       "    .dataframe tbody tr th {\n",
       "        vertical-align: top;\n",
       "    }\n",
       "\n",
       "    .dataframe thead th {\n",
       "        text-align: right;\n",
       "    }\n",
       "</style>\n",
       "<table border=\"1\" class=\"dataframe\">\n",
       "  <thead>\n",
       "    <tr style=\"text-align: right;\">\n",
       "      <th></th>\n",
       "      <th>p0</th>\n",
       "      <th>P_otk</th>\n",
       "      <th>Q</th>\n",
       "      <th>A</th>\n",
       "      <th>k</th>\n",
       "      <th>L</th>\n",
       "      <th>t</th>\n",
       "      <th>M</th>\n",
       "      <th>T</th>\n",
       "    </tr>\n",
       "  </thead>\n",
       "  <tbody>\n",
       "    <tr>\n",
       "      <th>1</th>\n",
       "      <td>0.07692</td>\n",
       "      <td>0.23077</td>\n",
       "      <td>0.76923</td>\n",
       "      <td>10.00000</td>\n",
       "      <td>2.53846</td>\n",
       "      <td>1.38462</td>\n",
       "      <td>0.14199</td>\n",
       "      <td>3.92308</td>\n",
       "      <td>0.36142</td>\n",
       "    </tr>\n",
       "    <tr>\n",
       "      <th>101</th>\n",
       "      <td>0.00891</td>\n",
       "      <td>0.31255</td>\n",
       "      <td>0.68745</td>\n",
       "      <td>8.40594</td>\n",
       "      <td>2.79595</td>\n",
       "      <td>1.54170</td>\n",
       "      <td>0.12449</td>\n",
       "      <td>4.33765</td>\n",
       "      <td>0.35457</td>\n",
       "    </tr>\n",
       "    <tr>\n",
       "      <th>201</th>\n",
       "      <td>0.01406</td>\n",
       "      <td>0.31472</td>\n",
       "      <td>0.68528</td>\n",
       "      <td>8.24378</td>\n",
       "      <td>2.77047</td>\n",
       "      <td>1.57858</td>\n",
       "      <td>0.12911</td>\n",
       "      <td>4.34905</td>\n",
       "      <td>0.35931</td>\n",
       "    </tr>\n",
       "    <tr>\n",
       "      <th>301</th>\n",
       "      <td>0.01062</td>\n",
       "      <td>0.32925</td>\n",
       "      <td>0.67075</td>\n",
       "      <td>8.18272</td>\n",
       "      <td>2.78513</td>\n",
       "      <td>1.60948</td>\n",
       "      <td>0.13046</td>\n",
       "      <td>4.39461</td>\n",
       "      <td>0.35886</td>\n",
       "    </tr>\n",
       "    <tr>\n",
       "      <th>401</th>\n",
       "      <td>0.01339</td>\n",
       "      <td>0.29813</td>\n",
       "      <td>0.70187</td>\n",
       "      <td>8.23691</td>\n",
       "      <td>2.75074</td>\n",
       "      <td>1.50191</td>\n",
       "      <td>0.12776</td>\n",
       "      <td>4.25266</td>\n",
       "      <td>0.36218</td>\n",
       "    </tr>\n",
       "    <tr>\n",
       "      <th>501</th>\n",
       "      <td>0.01333</td>\n",
       "      <td>0.31945</td>\n",
       "      <td>0.68055</td>\n",
       "      <td>8.25349</td>\n",
       "      <td>2.76136</td>\n",
       "      <td>1.56452</td>\n",
       "      <td>0.12727</td>\n",
       "      <td>4.32587</td>\n",
       "      <td>0.35485</td>\n",
       "    </tr>\n",
       "    <tr>\n",
       "      <th>601</th>\n",
       "      <td>0.01360</td>\n",
       "      <td>0.28669</td>\n",
       "      <td>0.71331</td>\n",
       "      <td>8.37937</td>\n",
       "      <td>2.73782</td>\n",
       "      <td>1.46955</td>\n",
       "      <td>0.12508</td>\n",
       "      <td>4.20737</td>\n",
       "      <td>0.35826</td>\n",
       "    </tr>\n",
       "    <tr>\n",
       "      <th>701</th>\n",
       "      <td>0.01283</td>\n",
       "      <td>0.30406</td>\n",
       "      <td>0.69594</td>\n",
       "      <td>8.35521</td>\n",
       "      <td>2.76770</td>\n",
       "      <td>1.54884</td>\n",
       "      <td>0.13014</td>\n",
       "      <td>4.31654</td>\n",
       "      <td>0.36085</td>\n",
       "    </tr>\n",
       "    <tr>\n",
       "      <th>801</th>\n",
       "      <td>0.01495</td>\n",
       "      <td>0.31460</td>\n",
       "      <td>0.68540</td>\n",
       "      <td>8.12984</td>\n",
       "      <td>2.75508</td>\n",
       "      <td>1.55931</td>\n",
       "      <td>0.12950</td>\n",
       "      <td>4.31439</td>\n",
       "      <td>0.36113</td>\n",
       "    </tr>\n",
       "    <tr>\n",
       "      <th>901</th>\n",
       "      <td>0.00943</td>\n",
       "      <td>0.31175</td>\n",
       "      <td>0.68825</td>\n",
       "      <td>8.42397</td>\n",
       "      <td>2.79425</td>\n",
       "      <td>1.59431</td>\n",
       "      <td>0.13198</td>\n",
       "      <td>4.38856</td>\n",
       "      <td>0.36100</td>\n",
       "    </tr>\n",
       "    <tr>\n",
       "      <th>1001</th>\n",
       "      <td>0.01248</td>\n",
       "      <td>0.30267</td>\n",
       "      <td>0.69733</td>\n",
       "      <td>8.26274</td>\n",
       "      <td>2.76031</td>\n",
       "      <td>1.53275</td>\n",
       "      <td>0.12786</td>\n",
       "      <td>4.29306</td>\n",
       "      <td>0.36087</td>\n",
       "    </tr>\n",
       "    <tr>\n",
       "      <th>1101</th>\n",
       "      <td>0.01356</td>\n",
       "      <td>0.31156</td>\n",
       "      <td>0.68844</td>\n",
       "      <td>8.34877</td>\n",
       "      <td>2.76820</td>\n",
       "      <td>1.56786</td>\n",
       "      <td>0.12895</td>\n",
       "      <td>4.33605</td>\n",
       "      <td>0.35757</td>\n",
       "    </tr>\n",
       "    <tr>\n",
       "      <th>1201</th>\n",
       "      <td>0.01153</td>\n",
       "      <td>0.30712</td>\n",
       "      <td>0.69288</td>\n",
       "      <td>8.30475</td>\n",
       "      <td>2.77749</td>\n",
       "      <td>1.56047</td>\n",
       "      <td>0.13085</td>\n",
       "      <td>4.33796</td>\n",
       "      <td>0.36278</td>\n",
       "    </tr>\n",
       "    <tr>\n",
       "      <th>1301</th>\n",
       "      <td>0.01184</td>\n",
       "      <td>0.32468</td>\n",
       "      <td>0.67532</td>\n",
       "      <td>8.15680</td>\n",
       "      <td>2.77956</td>\n",
       "      <td>1.59959</td>\n",
       "      <td>0.13146</td>\n",
       "      <td>4.37915</td>\n",
       "      <td>0.36146</td>\n",
       "    </tr>\n",
       "    <tr>\n",
       "      <th>1401</th>\n",
       "      <td>0.01196</td>\n",
       "      <td>0.30589</td>\n",
       "      <td>0.69411</td>\n",
       "      <td>8.32834</td>\n",
       "      <td>2.77174</td>\n",
       "      <td>1.55860</td>\n",
       "      <td>0.13031</td>\n",
       "      <td>4.33034</td>\n",
       "      <td>0.36132</td>\n",
       "    </tr>\n",
       "    <tr>\n",
       "      <th>1501</th>\n",
       "      <td>0.01171</td>\n",
       "      <td>0.31529</td>\n",
       "      <td>0.68471</td>\n",
       "      <td>8.25849</td>\n",
       "      <td>2.78160</td>\n",
       "      <td>1.59241</td>\n",
       "      <td>0.13235</td>\n",
       "      <td>4.37401</td>\n",
       "      <td>0.36285</td>\n",
       "    </tr>\n",
       "    <tr>\n",
       "      <th>1601</th>\n",
       "      <td>0.01317</td>\n",
       "      <td>0.30622</td>\n",
       "      <td>0.69378</td>\n",
       "      <td>8.26171</td>\n",
       "      <td>2.76475</td>\n",
       "      <td>1.55153</td>\n",
       "      <td>0.13004</td>\n",
       "      <td>4.31629</td>\n",
       "      <td>0.36213</td>\n",
       "    </tr>\n",
       "    <tr>\n",
       "      <th>1701</th>\n",
       "      <td>0.01280</td>\n",
       "      <td>0.30915</td>\n",
       "      <td>0.69085</td>\n",
       "      <td>8.28454</td>\n",
       "      <td>2.75802</td>\n",
       "      <td>1.55128</td>\n",
       "      <td>0.12871</td>\n",
       "      <td>4.30930</td>\n",
       "      <td>0.35890</td>\n",
       "    </tr>\n",
       "    <tr>\n",
       "      <th>1801</th>\n",
       "      <td>0.01237</td>\n",
       "      <td>0.30181</td>\n",
       "      <td>0.69819</td>\n",
       "      <td>8.39645</td>\n",
       "      <td>2.76135</td>\n",
       "      <td>1.54125</td>\n",
       "      <td>0.12791</td>\n",
       "      <td>4.30260</td>\n",
       "      <td>0.35786</td>\n",
       "    </tr>\n",
       "    <tr>\n",
       "      <th>1901</th>\n",
       "      <td>0.01343</td>\n",
       "      <td>0.29989</td>\n",
       "      <td>0.70011</td>\n",
       "      <td>8.36665</td>\n",
       "      <td>2.75328</td>\n",
       "      <td>1.52478</td>\n",
       "      <td>0.12827</td>\n",
       "      <td>4.27806</td>\n",
       "      <td>0.35893</td>\n",
       "    </tr>\n",
       "    <tr>\n",
       "      <th>2001</th>\n",
       "      <td>0.01208</td>\n",
       "      <td>0.30674</td>\n",
       "      <td>0.69326</td>\n",
       "      <td>8.31734</td>\n",
       "      <td>2.77348</td>\n",
       "      <td>1.56954</td>\n",
       "      <td>0.13168</td>\n",
       "      <td>4.34302</td>\n",
       "      <td>0.36310</td>\n",
       "    </tr>\n",
       "    <tr>\n",
       "      <th>2101</th>\n",
       "      <td>0.01363</td>\n",
       "      <td>0.30287</td>\n",
       "      <td>0.69713</td>\n",
       "      <td>8.27463</td>\n",
       "      <td>2.75764</td>\n",
       "      <td>1.54487</td>\n",
       "      <td>0.13025</td>\n",
       "      <td>4.30251</td>\n",
       "      <td>0.36243</td>\n",
       "    </tr>\n",
       "    <tr>\n",
       "      <th>2201</th>\n",
       "      <td>0.01257</td>\n",
       "      <td>0.31538</td>\n",
       "      <td>0.68462</td>\n",
       "      <td>8.29259</td>\n",
       "      <td>2.77273</td>\n",
       "      <td>1.58230</td>\n",
       "      <td>0.13026</td>\n",
       "      <td>4.35503</td>\n",
       "      <td>0.35887</td>\n",
       "    </tr>\n",
       "    <tr>\n",
       "      <th>2301</th>\n",
       "      <td>0.01271</td>\n",
       "      <td>0.30888</td>\n",
       "      <td>0.69112</td>\n",
       "      <td>8.29639</td>\n",
       "      <td>2.77051</td>\n",
       "      <td>1.57849</td>\n",
       "      <td>0.13124</td>\n",
       "      <td>4.34900</td>\n",
       "      <td>0.36131</td>\n",
       "    </tr>\n",
       "    <tr>\n",
       "      <th>2401</th>\n",
       "      <td>0.01151</td>\n",
       "      <td>0.30456</td>\n",
       "      <td>0.69544</td>\n",
       "      <td>8.35277</td>\n",
       "      <td>2.77634</td>\n",
       "      <td>1.55715</td>\n",
       "      <td>0.13075</td>\n",
       "      <td>4.33348</td>\n",
       "      <td>0.36228</td>\n",
       "    </tr>\n",
       "    <tr>\n",
       "      <th>2501</th>\n",
       "      <td>0.01301</td>\n",
       "      <td>0.31440</td>\n",
       "      <td>0.68560</td>\n",
       "      <td>8.21511</td>\n",
       "      <td>2.76371</td>\n",
       "      <td>1.56737</td>\n",
       "      <td>0.12955</td>\n",
       "      <td>4.33109</td>\n",
       "      <td>0.35951</td>\n",
       "    </tr>\n",
       "    <tr>\n",
       "      <th>2601</th>\n",
       "      <td>0.01217</td>\n",
       "      <td>0.30866</td>\n",
       "      <td>0.69134</td>\n",
       "      <td>8.27720</td>\n",
       "      <td>2.76526</td>\n",
       "      <td>1.55473</td>\n",
       "      <td>0.12933</td>\n",
       "      <td>4.32000</td>\n",
       "      <td>0.36010</td>\n",
       "    </tr>\n",
       "  </tbody>\n",
       "</table>\n",
       "</div>"
      ],
      "text/plain": [
       "           p0    P_otk        Q         A        k        L        t        M  \\\n",
       "1     0.07692  0.23077  0.76923  10.00000  2.53846  1.38462  0.14199  3.92308   \n",
       "101   0.00891  0.31255  0.68745   8.40594  2.79595  1.54170  0.12449  4.33765   \n",
       "201   0.01406  0.31472  0.68528   8.24378  2.77047  1.57858  0.12911  4.34905   \n",
       "301   0.01062  0.32925  0.67075   8.18272  2.78513  1.60948  0.13046  4.39461   \n",
       "401   0.01339  0.29813  0.70187   8.23691  2.75074  1.50191  0.12776  4.25266   \n",
       "501   0.01333  0.31945  0.68055   8.25349  2.76136  1.56452  0.12727  4.32587   \n",
       "601   0.01360  0.28669  0.71331   8.37937  2.73782  1.46955  0.12508  4.20737   \n",
       "701   0.01283  0.30406  0.69594   8.35521  2.76770  1.54884  0.13014  4.31654   \n",
       "801   0.01495  0.31460  0.68540   8.12984  2.75508  1.55931  0.12950  4.31439   \n",
       "901   0.00943  0.31175  0.68825   8.42397  2.79425  1.59431  0.13198  4.38856   \n",
       "1001  0.01248  0.30267  0.69733   8.26274  2.76031  1.53275  0.12786  4.29306   \n",
       "1101  0.01356  0.31156  0.68844   8.34877  2.76820  1.56786  0.12895  4.33605   \n",
       "1201  0.01153  0.30712  0.69288   8.30475  2.77749  1.56047  0.13085  4.33796   \n",
       "1301  0.01184  0.32468  0.67532   8.15680  2.77956  1.59959  0.13146  4.37915   \n",
       "1401  0.01196  0.30589  0.69411   8.32834  2.77174  1.55860  0.13031  4.33034   \n",
       "1501  0.01171  0.31529  0.68471   8.25849  2.78160  1.59241  0.13235  4.37401   \n",
       "1601  0.01317  0.30622  0.69378   8.26171  2.76475  1.55153  0.13004  4.31629   \n",
       "1701  0.01280  0.30915  0.69085   8.28454  2.75802  1.55128  0.12871  4.30930   \n",
       "1801  0.01237  0.30181  0.69819   8.39645  2.76135  1.54125  0.12791  4.30260   \n",
       "1901  0.01343  0.29989  0.70011   8.36665  2.75328  1.52478  0.12827  4.27806   \n",
       "2001  0.01208  0.30674  0.69326   8.31734  2.77348  1.56954  0.13168  4.34302   \n",
       "2101  0.01363  0.30287  0.69713   8.27463  2.75764  1.54487  0.13025  4.30251   \n",
       "2201  0.01257  0.31538  0.68462   8.29259  2.77273  1.58230  0.13026  4.35503   \n",
       "2301  0.01271  0.30888  0.69112   8.29639  2.77051  1.57849  0.13124  4.34900   \n",
       "2401  0.01151  0.30456  0.69544   8.35277  2.77634  1.55715  0.13075  4.33348   \n",
       "2501  0.01301  0.31440  0.68560   8.21511  2.76371  1.56737  0.12955  4.33109   \n",
       "2601  0.01217  0.30866  0.69134   8.27720  2.76526  1.55473  0.12933  4.32000   \n",
       "\n",
       "            T  \n",
       "1     0.36142  \n",
       "101   0.35457  \n",
       "201   0.35931  \n",
       "301   0.35886  \n",
       "401   0.36218  \n",
       "501   0.35485  \n",
       "601   0.35826  \n",
       "701   0.36085  \n",
       "801   0.36113  \n",
       "901   0.36100  \n",
       "1001  0.36087  \n",
       "1101  0.35757  \n",
       "1201  0.36278  \n",
       "1301  0.36146  \n",
       "1401  0.36132  \n",
       "1501  0.36285  \n",
       "1601  0.36213  \n",
       "1701  0.35890  \n",
       "1801  0.35786  \n",
       "1901  0.35893  \n",
       "2001  0.36310  \n",
       "2101  0.36243  \n",
       "2201  0.35887  \n",
       "2301  0.36131  \n",
       "2401  0.36228  \n",
       "2501  0.35951  \n",
       "2601  0.36010  "
      ]
     },
     "execution_count": 17,
     "metadata": {},
     "output_type": "execute_result"
    }
   ],
   "source": [
    "df"
   ]
  },
  {
   "cell_type": "markdown",
   "metadata": {
    "ExecuteTime": {
     "end_time": "2021-02-04T17:53:38.106211Z",
     "start_time": "2021-02-04T17:53:37.194024Z"
    }
   },
   "source": [
    "Мы получили таблицу, где индекс - это длительность симуляции, а столбцы показатели работы СМО.\n",
    "\n",
    "Визуализируем наши результаты."
   ]
  },
  {
   "cell_type": "code",
   "execution_count": 19,
   "metadata": {
    "ExecuteTime": {
     "end_time": "2021-02-08T12:03:41.118074Z",
     "start_time": "2021-02-08T12:03:40.525663Z"
    },
    "scrolled": false
   },
   "outputs": [
    {
     "data": {
      "image/png": "[encoded data removed]",
      "text/plain": [
       "<Figure size 720x720 with 1 Axes>"
      ]
     },
     "metadata": {
      "needs_background": "light"
     },
     "output_type": "display_data"
    }
   ],
   "source": [
    "plt.figure(figsize=(10, 10))\n",
    "for column in df.columns:\n",
    "    plt.plot(df[column], label=column)\n",
    "    plt.legend()\n",
    "plt.title('Convergence of indicators CMO')\n",
    "plt.xlabel('Iteration #')\n",
    "plt.ylabel('Value')\n",
    "plt.show()"
   ]
  },
  {
   "cell_type": "markdown",
   "metadata": {},
   "source": [
    "Тогда будем считать, что СМО сходится, когда время симуляции превышает значение $\\approx$ 2500. Поскольку мы имеем дело все-таки со случайными процессами, то сходимость может быть достигнута при разном значении итераций, но практика показала, что при нашем эпсилон, обычно сходимость достигается менее, чем за 10000 итераций (utils=10000). Запустим тогда 200 симуляций (очень долго считает, поэтому не много) с временем симуляции 10000. Итоговые показатели усредним, визуализируем и будем сравнивать с аналитическим решением."
   ]
  },
  {
   "cell_type": "code",
   "execution_count": 20,
   "metadata": {
    "ExecuteTime": {
     "end_time": "2021-02-08T12:24:58.034730Z",
     "start_time": "2021-02-08T12:03:41.120069Z"
    }
   },
   "outputs": [
    {
     "data": {
      "application/vnd.jupyter.widget-view+json": {
       "model_id": "a3a475719a214ba784e68b0614151742",
       "version_major": 2,
       "version_minor": 0
      },
      "text/plain": [
       "HBox(children=(HTML(value=''), FloatProgress(value=0.0, max=200.0), HTML(value='')))"
      ]
     },
     "metadata": {},
     "output_type": "display_data"
    },
    {
     "name": "stdout",
     "output_type": "stream",
     "text": [
      "\n"
     ]
    }
   ],
   "source": [
    "df = pd.DataFrame({'p0':[],\n",
    "                   'P_otk':[],\n",
    "                   'Q':[],\n",
    "                   'A':[],\n",
    "                   'k':[],\n",
    "                   'L':[],\n",
    "                   't':[],\n",
    "                   'M':[],\n",
    "                   'T':[]})\n",
    "\n",
    "for i in tqdm(range(200)):\n",
    "    clients_total, clients_gone = [0 for x in range(2)]\n",
    "    wait_times, len_queue, clients_in_CMO, clients_in_process, wait_time_in_queue = [[] for x in range(5)]\n",
    "    emitation_time = 10000\n",
    "\n",
    "    env = simpy.Environment()\n",
    "    env.process(run_barber_shop(env))\n",
    "    env.run(until=emitation_time)\n",
    "    df.loc[i+1] = [round(clients_in_process.count(0)/clients_total, 5),\n",
    "           round(clients_gone/clients_total, 5),\n",
    "           round(1 - clients_gone/clients_total, 5),\n",
    "           round((clients_total-clients_gone)/emitation_time, 5),\n",
    "           round(np.mean(clients_in_process), 5),\n",
    "           round(np.mean(len_queue), 5),\n",
    "           round(np.mean(wait_time_in_queue), 5),\n",
    "           round(np.mean(clients_in_CMO), 5),\n",
    "           round(np.mean(wait_times), 5)]"
   ]
  },
  {
   "cell_type": "code",
   "execution_count": 21,
   "metadata": {
    "ExecuteTime": {
     "end_time": "2021-02-08T12:24:58.080654Z",
     "start_time": "2021-02-08T12:24:58.036726Z"
    }
   },
   "outputs": [
    {
     "data": {
      "text/html": [
       "<div>\n",
       "<style scoped>\n",
       "    .dataframe tbody tr th:only-of-type {\n",
       "        vertical-align: middle;\n",
       "    }\n",
       "\n",
       "    .dataframe tbody tr th {\n",
       "        vertical-align: top;\n",
       "    }\n",
       "\n",
       "    .dataframe thead th {\n",
       "        text-align: right;\n",
       "    }\n",
       "</style>\n",
       "<table border=\"1\" class=\"dataframe\">\n",
       "  <thead>\n",
       "    <tr style=\"text-align: right;\">\n",
       "      <th></th>\n",
       "      <th>p0</th>\n",
       "      <th>P_otk</th>\n",
       "      <th>Q</th>\n",
       "      <th>A</th>\n",
       "      <th>k</th>\n",
       "      <th>L</th>\n",
       "      <th>t</th>\n",
       "      <th>M</th>\n",
       "      <th>T</th>\n",
       "    </tr>\n",
       "  </thead>\n",
       "  <tbody>\n",
       "    <tr>\n",
       "      <th>count</th>\n",
       "      <td>200.000000</td>\n",
       "      <td>200.000000</td>\n",
       "      <td>200.000000</td>\n",
       "      <td>200.00000</td>\n",
       "      <td>200.000000</td>\n",
       "      <td>200.000000</td>\n",
       "      <td>200.000000</td>\n",
       "      <td>200.000000</td>\n",
       "      <td>200.000000</td>\n",
       "    </tr>\n",
       "    <tr>\n",
       "      <th>mean</th>\n",
       "      <td>0.012209</td>\n",
       "      <td>0.307652</td>\n",
       "      <td>0.692348</td>\n",
       "      <td>8.30693</td>\n",
       "      <td>2.768272</td>\n",
       "      <td>1.557649</td>\n",
       "      <td>0.129802</td>\n",
       "      <td>4.325921</td>\n",
       "      <td>0.360525</td>\n",
       "    </tr>\n",
       "    <tr>\n",
       "      <th>std</th>\n",
       "      <td>0.000444</td>\n",
       "      <td>0.002424</td>\n",
       "      <td>0.002424</td>\n",
       "      <td>0.02447</td>\n",
       "      <td>0.003830</td>\n",
       "      <td>0.008373</td>\n",
       "      <td>0.000628</td>\n",
       "      <td>0.011655</td>\n",
       "      <td>0.000994</td>\n",
       "    </tr>\n",
       "    <tr>\n",
       "      <th>min</th>\n",
       "      <td>0.011110</td>\n",
       "      <td>0.298500</td>\n",
       "      <td>0.685440</td>\n",
       "      <td>8.23790</td>\n",
       "      <td>2.757550</td>\n",
       "      <td>1.531100</td>\n",
       "      <td>0.128190</td>\n",
       "      <td>4.295080</td>\n",
       "      <td>0.358120</td>\n",
       "    </tr>\n",
       "    <tr>\n",
       "      <th>25%</th>\n",
       "      <td>0.011877</td>\n",
       "      <td>0.306243</td>\n",
       "      <td>0.690725</td>\n",
       "      <td>8.29175</td>\n",
       "      <td>2.765205</td>\n",
       "      <td>1.552190</td>\n",
       "      <td>0.129383</td>\n",
       "      <td>4.317870</td>\n",
       "      <td>0.359830</td>\n",
       "    </tr>\n",
       "    <tr>\n",
       "      <th>50%</th>\n",
       "      <td>0.012210</td>\n",
       "      <td>0.307785</td>\n",
       "      <td>0.692215</td>\n",
       "      <td>8.30225</td>\n",
       "      <td>2.768145</td>\n",
       "      <td>1.557610</td>\n",
       "      <td>0.129750</td>\n",
       "      <td>4.326000</td>\n",
       "      <td>0.360630</td>\n",
       "    </tr>\n",
       "    <tr>\n",
       "      <th>75%</th>\n",
       "      <td>0.012503</td>\n",
       "      <td>0.309275</td>\n",
       "      <td>0.693757</td>\n",
       "      <td>8.32075</td>\n",
       "      <td>2.770925</td>\n",
       "      <td>1.563350</td>\n",
       "      <td>0.130267</td>\n",
       "      <td>4.333905</td>\n",
       "      <td>0.361223</td>\n",
       "    </tr>\n",
       "    <tr>\n",
       "      <th>max</th>\n",
       "      <td>0.013380</td>\n",
       "      <td>0.314560</td>\n",
       "      <td>0.701500</td>\n",
       "      <td>8.40310</td>\n",
       "      <td>2.777910</td>\n",
       "      <td>1.582610</td>\n",
       "      <td>0.131390</td>\n",
       "      <td>4.359450</td>\n",
       "      <td>0.363100</td>\n",
       "    </tr>\n",
       "  </tbody>\n",
       "</table>\n",
       "</div>"
      ],
      "text/plain": [
       "               p0       P_otk           Q          A           k           L  \\\n",
       "count  200.000000  200.000000  200.000000  200.00000  200.000000  200.000000   \n",
       "mean     0.012209    0.307652    0.692348    8.30693    2.768272    1.557649   \n",
       "std      0.000444    0.002424    0.002424    0.02447    0.003830    0.008373   \n",
       "min      0.011110    0.298500    0.685440    8.23790    2.757550    1.531100   \n",
       "25%      0.011877    0.306243    0.690725    8.29175    2.765205    1.552190   \n",
       "50%      0.012210    0.307785    0.692215    8.30225    2.768145    1.557610   \n",
       "75%      0.012503    0.309275    0.693757    8.32075    2.770925    1.563350   \n",
       "max      0.013380    0.314560    0.701500    8.40310    2.777910    1.582610   \n",
       "\n",
       "                t           M           T  \n",
       "count  200.000000  200.000000  200.000000  \n",
       "mean     0.129802    4.325921    0.360525  \n",
       "std      0.000628    0.011655    0.000994  \n",
       "min      0.128190    4.295080    0.358120  \n",
       "25%      0.129383    4.317870    0.359830  \n",
       "50%      0.129750    4.326000    0.360630  \n",
       "75%      0.130267    4.333905    0.361223  \n",
       "max      0.131390    4.359450    0.363100  "
      ]
     },
     "execution_count": 21,
     "metadata": {},
     "output_type": "execute_result"
    }
   ],
   "source": [
    "df.describe()"
   ]
  },
  {
   "cell_type": "code",
   "execution_count": 22,
   "metadata": {
    "ExecuteTime": {
     "end_time": "2021-02-08T12:25:00.515189Z",
     "start_time": "2021-02-08T12:24:58.084644Z"
    }
   },
   "outputs": [
    {
     "data": {
      "image/png": "[encoded data removed]",
      "text/plain": [
       "<Figure size 1440x1440 with 9 Axes>"
      ]
     },
     "metadata": {
      "needs_background": "light"
     },
     "output_type": "display_data"
    }
   ],
   "source": [
    "plt.figure(figsize=(20, 20))\n",
    "for i, column in enumerate(df.columns):\n",
    "    plt.subplot(3,3,i+1)\n",
    "    plt.hist(df[column], bins=20)\n",
    "    plt.title(column)\n",
    "plt.show()"
   ]
  },
  {
   "cell_type": "code",
   "execution_count": 23,
   "metadata": {
    "ExecuteTime": {
     "end_time": "2021-02-08T12:25:00.535139Z",
     "start_time": "2021-02-08T12:25:00.517148Z"
    }
   },
   "outputs": [
    {
     "data": {
      "text/html": [
       "<div>\n",
       "<style scoped>\n",
       "    .dataframe tbody tr th:only-of-type {\n",
       "        vertical-align: middle;\n",
       "    }\n",
       "\n",
       "    .dataframe tbody tr th {\n",
       "        vertical-align: top;\n",
       "    }\n",
       "\n",
       "    .dataframe thead th {\n",
       "        text-align: right;\n",
       "    }\n",
       "</style>\n",
       "<table border=\"1\" class=\"dataframe\">\n",
       "  <thead>\n",
       "    <tr style=\"text-align: right;\">\n",
       "      <th></th>\n",
       "      <th>p0</th>\n",
       "      <th>P_otk</th>\n",
       "      <th>Q</th>\n",
       "      <th>A</th>\n",
       "      <th>k</th>\n",
       "      <th>L</th>\n",
       "      <th>t</th>\n",
       "      <th>M</th>\n",
       "      <th>T</th>\n",
       "    </tr>\n",
       "  </thead>\n",
       "  <tbody>\n",
       "    <tr>\n",
       "      <th>analysis</th>\n",
       "      <td>0.012170</td>\n",
       "      <td>0.307830</td>\n",
       "      <td>0.692170</td>\n",
       "      <td>8.30603</td>\n",
       "      <td>2.768680</td>\n",
       "      <td>1.558390</td>\n",
       "      <td>0.129870</td>\n",
       "      <td>4.327070</td>\n",
       "      <td>0.360590</td>\n",
       "    </tr>\n",
       "    <tr>\n",
       "      <th>imitation</th>\n",
       "      <td>0.012209</td>\n",
       "      <td>0.307652</td>\n",
       "      <td>0.692348</td>\n",
       "      <td>8.30693</td>\n",
       "      <td>2.768272</td>\n",
       "      <td>1.557649</td>\n",
       "      <td>0.129802</td>\n",
       "      <td>4.325921</td>\n",
       "      <td>0.360525</td>\n",
       "    </tr>\n",
       "  </tbody>\n",
       "</table>\n",
       "</div>"
      ],
      "text/plain": [
       "                 p0     P_otk         Q        A         k         L  \\\n",
       "analysis   0.012170  0.307830  0.692170  8.30603  2.768680  1.558390   \n",
       "imitation  0.012209  0.307652  0.692348  8.30693  2.768272  1.557649   \n",
       "\n",
       "                  t         M         T  \n",
       "analysis   0.129870  4.327070  0.360590  \n",
       "imitation  0.129802  4.325921  0.360525  "
      ]
     },
     "execution_count": 23,
     "metadata": {},
     "output_type": "execute_result"
    }
   ],
   "source": [
    "imitation_vs_analysis.loc['imitation'] = [df[column].mean() for column in df.columns]\n",
    "imitation_vs_analysis"
   ]
  },
  {
   "cell_type": "markdown",
   "metadata": {},
   "source": [
    "Как можно заметить, наша имитационная модель на Python более, чем сходится с аналитическим решением. Все показатели имеют +- нормальное распределение, что не может не радовать. Имитационные показатели почти не отличаются от аналитических. Небольшое отклонение можно списать на случайность процессов. В нашей задаче это поток клиентов и среднее время обслуживания, для которых интервал времени между двумя произвольными соседними событиями имеет показательное распределение.\n",
    "\n",
    "Надеюсь, мы откажемся от имитации задач на питоне, это было весьма познавательно, но, пожалуйста, хватит)"
   ]
  }
 ],
 "metadata": {
  "kernelspec": {
   "display_name": "Python 3",
   "language": "python",
   "name": "python3"
  },
  "language_info": {
   "codemirror_mode": {
    "name": "ipython",
    "version": 3
   },
   "file_extension": ".py",
   "mimetype": "text/x-python",
   "name": "python",
   "nbconvert_exporter": "python",
   "pygments_lexer": "ipython3",
   "version": "3.8.5"
  }
 },
 "nbformat": 4,
 "nbformat_minor": 4
}
